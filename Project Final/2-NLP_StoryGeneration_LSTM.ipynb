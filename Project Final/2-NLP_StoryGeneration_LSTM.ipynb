{
  "nbformat": 4,
  "nbformat_minor": 0,
  "metadata": {
    "colab": {
      "provenance": [],
      "machine_shape": "hm"
    },
    "kernelspec": {
      "name": "python3",
      "display_name": "Python 3"
    },
    "language_info": {
      "name": "python"
    },
    "widgets": {
      "application/vnd.jupyter.widget-state+json": {
        "e0775f73a6eb4bb383d11b071441faa4": {
          "model_module": "@jupyter-widgets/controls",
          "model_name": "HBoxModel",
          "model_module_version": "1.5.0",
          "state": {
            "_dom_classes": [],
            "_model_module": "@jupyter-widgets/controls",
            "_model_module_version": "1.5.0",
            "_model_name": "HBoxModel",
            "_view_count": null,
            "_view_module": "@jupyter-widgets/controls",
            "_view_module_version": "1.5.0",
            "_view_name": "HBoxView",
            "box_style": "",
            "children": [
              "IPY_MODEL_649532ff616547fda9f5e82f078abccd",
              "IPY_MODEL_a73d2db8114b4f6984a00fe7ea0fb46c",
              "IPY_MODEL_f886d3494d594493bd2050ab6fd3f01e"
            ],
            "layout": "IPY_MODEL_5eb8afd249ef429cb1de35ac1dd0a9df"
          }
        },
        "649532ff616547fda9f5e82f078abccd": {
          "model_module": "@jupyter-widgets/controls",
          "model_name": "HTMLModel",
          "model_module_version": "1.5.0",
          "state": {
            "_dom_classes": [],
            "_model_module": "@jupyter-widgets/controls",
            "_model_module_version": "1.5.0",
            "_model_name": "HTMLModel",
            "_view_count": null,
            "_view_module": "@jupyter-widgets/controls",
            "_view_module_version": "1.5.0",
            "_view_name": "HTMLView",
            "description": "",
            "description_tooltip": null,
            "layout": "IPY_MODEL_4860bda0f24a427498f43de74040e3c6",
            "placeholder": "​",
            "style": "IPY_MODEL_f05476e8f0ab4356aa6ef94e55980448",
            "value": "Downloading readme: 100%"
          }
        },
        "a73d2db8114b4f6984a00fe7ea0fb46c": {
          "model_module": "@jupyter-widgets/controls",
          "model_name": "FloatProgressModel",
          "model_module_version": "1.5.0",
          "state": {
            "_dom_classes": [],
            "_model_module": "@jupyter-widgets/controls",
            "_model_module_version": "1.5.0",
            "_model_name": "FloatProgressModel",
            "_view_count": null,
            "_view_module": "@jupyter-widgets/controls",
            "_view_module_version": "1.5.0",
            "_view_name": "ProgressView",
            "bar_style": "success",
            "description": "",
            "description_tooltip": null,
            "layout": "IPY_MODEL_af4048eba721499daeed4e985a6d6d7d",
            "max": 203,
            "min": 0,
            "orientation": "horizontal",
            "style": "IPY_MODEL_0853574a00df404da2e33cb7d08adb0c",
            "value": 203
          }
        },
        "f886d3494d594493bd2050ab6fd3f01e": {
          "model_module": "@jupyter-widgets/controls",
          "model_name": "HTMLModel",
          "model_module_version": "1.5.0",
          "state": {
            "_dom_classes": [],
            "_model_module": "@jupyter-widgets/controls",
            "_model_module_version": "1.5.0",
            "_model_name": "HTMLModel",
            "_view_count": null,
            "_view_module": "@jupyter-widgets/controls",
            "_view_module_version": "1.5.0",
            "_view_name": "HTMLView",
            "description": "",
            "description_tooltip": null,
            "layout": "IPY_MODEL_4c3c2bf1867d4b26a5663bff53b9668b",
            "placeholder": "​",
            "style": "IPY_MODEL_cd987df1d53347faae880e5fc3d67167",
            "value": " 203/203 [00:00&lt;00:00, 16.7kB/s]"
          }
        },
        "5eb8afd249ef429cb1de35ac1dd0a9df": {
          "model_module": "@jupyter-widgets/base",
          "model_name": "LayoutModel",
          "model_module_version": "1.2.0",
          "state": {
            "_model_module": "@jupyter-widgets/base",
            "_model_module_version": "1.2.0",
            "_model_name": "LayoutModel",
            "_view_count": null,
            "_view_module": "@jupyter-widgets/base",
            "_view_module_version": "1.2.0",
            "_view_name": "LayoutView",
            "align_content": null,
            "align_items": null,
            "align_self": null,
            "border": null,
            "bottom": null,
            "display": null,
            "flex": null,
            "flex_flow": null,
            "grid_area": null,
            "grid_auto_columns": null,
            "grid_auto_flow": null,
            "grid_auto_rows": null,
            "grid_column": null,
            "grid_gap": null,
            "grid_row": null,
            "grid_template_areas": null,
            "grid_template_columns": null,
            "grid_template_rows": null,
            "height": null,
            "justify_content": null,
            "justify_items": null,
            "left": null,
            "margin": null,
            "max_height": null,
            "max_width": null,
            "min_height": null,
            "min_width": null,
            "object_fit": null,
            "object_position": null,
            "order": null,
            "overflow": null,
            "overflow_x": null,
            "overflow_y": null,
            "padding": null,
            "right": null,
            "top": null,
            "visibility": null,
            "width": null
          }
        },
        "4860bda0f24a427498f43de74040e3c6": {
          "model_module": "@jupyter-widgets/base",
          "model_name": "LayoutModel",
          "model_module_version": "1.2.0",
          "state": {
            "_model_module": "@jupyter-widgets/base",
            "_model_module_version": "1.2.0",
            "_model_name": "LayoutModel",
            "_view_count": null,
            "_view_module": "@jupyter-widgets/base",
            "_view_module_version": "1.2.0",
            "_view_name": "LayoutView",
            "align_content": null,
            "align_items": null,
            "align_self": null,
            "border": null,
            "bottom": null,
            "display": null,
            "flex": null,
            "flex_flow": null,
            "grid_area": null,
            "grid_auto_columns": null,
            "grid_auto_flow": null,
            "grid_auto_rows": null,
            "grid_column": null,
            "grid_gap": null,
            "grid_row": null,
            "grid_template_areas": null,
            "grid_template_columns": null,
            "grid_template_rows": null,
            "height": null,
            "justify_content": null,
            "justify_items": null,
            "left": null,
            "margin": null,
            "max_height": null,
            "max_width": null,
            "min_height": null,
            "min_width": null,
            "object_fit": null,
            "object_position": null,
            "order": null,
            "overflow": null,
            "overflow_x": null,
            "overflow_y": null,
            "padding": null,
            "right": null,
            "top": null,
            "visibility": null,
            "width": null
          }
        },
        "f05476e8f0ab4356aa6ef94e55980448": {
          "model_module": "@jupyter-widgets/controls",
          "model_name": "DescriptionStyleModel",
          "model_module_version": "1.5.0",
          "state": {
            "_model_module": "@jupyter-widgets/controls",
            "_model_module_version": "1.5.0",
            "_model_name": "DescriptionStyleModel",
            "_view_count": null,
            "_view_module": "@jupyter-widgets/base",
            "_view_module_version": "1.2.0",
            "_view_name": "StyleView",
            "description_width": ""
          }
        },
        "af4048eba721499daeed4e985a6d6d7d": {
          "model_module": "@jupyter-widgets/base",
          "model_name": "LayoutModel",
          "model_module_version": "1.2.0",
          "state": {
            "_model_module": "@jupyter-widgets/base",
            "_model_module_version": "1.2.0",
            "_model_name": "LayoutModel",
            "_view_count": null,
            "_view_module": "@jupyter-widgets/base",
            "_view_module_version": "1.2.0",
            "_view_name": "LayoutView",
            "align_content": null,
            "align_items": null,
            "align_self": null,
            "border": null,
            "bottom": null,
            "display": null,
            "flex": null,
            "flex_flow": null,
            "grid_area": null,
            "grid_auto_columns": null,
            "grid_auto_flow": null,
            "grid_auto_rows": null,
            "grid_column": null,
            "grid_gap": null,
            "grid_row": null,
            "grid_template_areas": null,
            "grid_template_columns": null,
            "grid_template_rows": null,
            "height": null,
            "justify_content": null,
            "justify_items": null,
            "left": null,
            "margin": null,
            "max_height": null,
            "max_width": null,
            "min_height": null,
            "min_width": null,
            "object_fit": null,
            "object_position": null,
            "order": null,
            "overflow": null,
            "overflow_x": null,
            "overflow_y": null,
            "padding": null,
            "right": null,
            "top": null,
            "visibility": null,
            "width": null
          }
        },
        "0853574a00df404da2e33cb7d08adb0c": {
          "model_module": "@jupyter-widgets/controls",
          "model_name": "ProgressStyleModel",
          "model_module_version": "1.5.0",
          "state": {
            "_model_module": "@jupyter-widgets/controls",
            "_model_module_version": "1.5.0",
            "_model_name": "ProgressStyleModel",
            "_view_count": null,
            "_view_module": "@jupyter-widgets/base",
            "_view_module_version": "1.2.0",
            "_view_name": "StyleView",
            "bar_color": null,
            "description_width": ""
          }
        },
        "4c3c2bf1867d4b26a5663bff53b9668b": {
          "model_module": "@jupyter-widgets/base",
          "model_name": "LayoutModel",
          "model_module_version": "1.2.0",
          "state": {
            "_model_module": "@jupyter-widgets/base",
            "_model_module_version": "1.2.0",
            "_model_name": "LayoutModel",
            "_view_count": null,
            "_view_module": "@jupyter-widgets/base",
            "_view_module_version": "1.2.0",
            "_view_name": "LayoutView",
            "align_content": null,
            "align_items": null,
            "align_self": null,
            "border": null,
            "bottom": null,
            "display": null,
            "flex": null,
            "flex_flow": null,
            "grid_area": null,
            "grid_auto_columns": null,
            "grid_auto_flow": null,
            "grid_auto_rows": null,
            "grid_column": null,
            "grid_gap": null,
            "grid_row": null,
            "grid_template_areas": null,
            "grid_template_columns": null,
            "grid_template_rows": null,
            "height": null,
            "justify_content": null,
            "justify_items": null,
            "left": null,
            "margin": null,
            "max_height": null,
            "max_width": null,
            "min_height": null,
            "min_width": null,
            "object_fit": null,
            "object_position": null,
            "order": null,
            "overflow": null,
            "overflow_x": null,
            "overflow_y": null,
            "padding": null,
            "right": null,
            "top": null,
            "visibility": null,
            "width": null
          }
        },
        "cd987df1d53347faae880e5fc3d67167": {
          "model_module": "@jupyter-widgets/controls",
          "model_name": "DescriptionStyleModel",
          "model_module_version": "1.5.0",
          "state": {
            "_model_module": "@jupyter-widgets/controls",
            "_model_module_version": "1.5.0",
            "_model_name": "DescriptionStyleModel",
            "_view_count": null,
            "_view_module": "@jupyter-widgets/base",
            "_view_module_version": "1.2.0",
            "_view_name": "StyleView",
            "description_width": ""
          }
        },
        "c9cff6be3dbe4a2b9fdd765fbe8a3b76": {
          "model_module": "@jupyter-widgets/controls",
          "model_name": "HBoxModel",
          "model_module_version": "1.5.0",
          "state": {
            "_dom_classes": [],
            "_model_module": "@jupyter-widgets/controls",
            "_model_module_version": "1.5.0",
            "_model_name": "HBoxModel",
            "_view_count": null,
            "_view_module": "@jupyter-widgets/controls",
            "_view_module_version": "1.5.0",
            "_view_name": "HBoxView",
            "box_style": "",
            "children": [
              "IPY_MODEL_238f6db3a79a485aa4b3a7f6d08cc091",
              "IPY_MODEL_e6a98231d3e247838124cc2d850ef870",
              "IPY_MODEL_73497a2c582a4f9298be5eedf6556b8d"
            ],
            "layout": "IPY_MODEL_97af14834d9c455fbaef98c029bc3836"
          }
        },
        "238f6db3a79a485aa4b3a7f6d08cc091": {
          "model_module": "@jupyter-widgets/controls",
          "model_name": "HTMLModel",
          "model_module_version": "1.5.0",
          "state": {
            "_dom_classes": [],
            "_model_module": "@jupyter-widgets/controls",
            "_model_module_version": "1.5.0",
            "_model_name": "HTMLModel",
            "_view_count": null,
            "_view_module": "@jupyter-widgets/controls",
            "_view_module_version": "1.5.0",
            "_view_name": "HTMLView",
            "description": "",
            "description_tooltip": null,
            "layout": "IPY_MODEL_75ebe91e2c764b9e94c827c03db4aac4",
            "placeholder": "​",
            "style": "IPY_MODEL_e1acf52c7f0d4fe89b1aa56d147a8b96",
            "value": "Downloading data files: 100%"
          }
        },
        "e6a98231d3e247838124cc2d850ef870": {
          "model_module": "@jupyter-widgets/controls",
          "model_name": "FloatProgressModel",
          "model_module_version": "1.5.0",
          "state": {
            "_dom_classes": [],
            "_model_module": "@jupyter-widgets/controls",
            "_model_module_version": "1.5.0",
            "_model_name": "FloatProgressModel",
            "_view_count": null,
            "_view_module": "@jupyter-widgets/controls",
            "_view_module_version": "1.5.0",
            "_view_name": "ProgressView",
            "bar_style": "success",
            "description": "",
            "description_tooltip": null,
            "layout": "IPY_MODEL_6b1bc07937b3414386777d2ae2803873",
            "max": 1,
            "min": 0,
            "orientation": "horizontal",
            "style": "IPY_MODEL_a545fa7169c148b99589776f51a09d13",
            "value": 1
          }
        },
        "73497a2c582a4f9298be5eedf6556b8d": {
          "model_module": "@jupyter-widgets/controls",
          "model_name": "HTMLModel",
          "model_module_version": "1.5.0",
          "state": {
            "_dom_classes": [],
            "_model_module": "@jupyter-widgets/controls",
            "_model_module_version": "1.5.0",
            "_model_name": "HTMLModel",
            "_view_count": null,
            "_view_module": "@jupyter-widgets/controls",
            "_view_module_version": "1.5.0",
            "_view_name": "HTMLView",
            "description": "",
            "description_tooltip": null,
            "layout": "IPY_MODEL_3466786c863e46fd8e32e20452446967",
            "placeholder": "​",
            "style": "IPY_MODEL_aba83b6eed9f4498850268b2535fd7de",
            "value": " 1/1 [00:01&lt;00:00,  1.43s/it]"
          }
        },
        "97af14834d9c455fbaef98c029bc3836": {
          "model_module": "@jupyter-widgets/base",
          "model_name": "LayoutModel",
          "model_module_version": "1.2.0",
          "state": {
            "_model_module": "@jupyter-widgets/base",
            "_model_module_version": "1.2.0",
            "_model_name": "LayoutModel",
            "_view_count": null,
            "_view_module": "@jupyter-widgets/base",
            "_view_module_version": "1.2.0",
            "_view_name": "LayoutView",
            "align_content": null,
            "align_items": null,
            "align_self": null,
            "border": null,
            "bottom": null,
            "display": null,
            "flex": null,
            "flex_flow": null,
            "grid_area": null,
            "grid_auto_columns": null,
            "grid_auto_flow": null,
            "grid_auto_rows": null,
            "grid_column": null,
            "grid_gap": null,
            "grid_row": null,
            "grid_template_areas": null,
            "grid_template_columns": null,
            "grid_template_rows": null,
            "height": null,
            "justify_content": null,
            "justify_items": null,
            "left": null,
            "margin": null,
            "max_height": null,
            "max_width": null,
            "min_height": null,
            "min_width": null,
            "object_fit": null,
            "object_position": null,
            "order": null,
            "overflow": null,
            "overflow_x": null,
            "overflow_y": null,
            "padding": null,
            "right": null,
            "top": null,
            "visibility": null,
            "width": null
          }
        },
        "75ebe91e2c764b9e94c827c03db4aac4": {
          "model_module": "@jupyter-widgets/base",
          "model_name": "LayoutModel",
          "model_module_version": "1.2.0",
          "state": {
            "_model_module": "@jupyter-widgets/base",
            "_model_module_version": "1.2.0",
            "_model_name": "LayoutModel",
            "_view_count": null,
            "_view_module": "@jupyter-widgets/base",
            "_view_module_version": "1.2.0",
            "_view_name": "LayoutView",
            "align_content": null,
            "align_items": null,
            "align_self": null,
            "border": null,
            "bottom": null,
            "display": null,
            "flex": null,
            "flex_flow": null,
            "grid_area": null,
            "grid_auto_columns": null,
            "grid_auto_flow": null,
            "grid_auto_rows": null,
            "grid_column": null,
            "grid_gap": null,
            "grid_row": null,
            "grid_template_areas": null,
            "grid_template_columns": null,
            "grid_template_rows": null,
            "height": null,
            "justify_content": null,
            "justify_items": null,
            "left": null,
            "margin": null,
            "max_height": null,
            "max_width": null,
            "min_height": null,
            "min_width": null,
            "object_fit": null,
            "object_position": null,
            "order": null,
            "overflow": null,
            "overflow_x": null,
            "overflow_y": null,
            "padding": null,
            "right": null,
            "top": null,
            "visibility": null,
            "width": null
          }
        },
        "e1acf52c7f0d4fe89b1aa56d147a8b96": {
          "model_module": "@jupyter-widgets/controls",
          "model_name": "DescriptionStyleModel",
          "model_module_version": "1.5.0",
          "state": {
            "_model_module": "@jupyter-widgets/controls",
            "_model_module_version": "1.5.0",
            "_model_name": "DescriptionStyleModel",
            "_view_count": null,
            "_view_module": "@jupyter-widgets/base",
            "_view_module_version": "1.2.0",
            "_view_name": "StyleView",
            "description_width": ""
          }
        },
        "6b1bc07937b3414386777d2ae2803873": {
          "model_module": "@jupyter-widgets/base",
          "model_name": "LayoutModel",
          "model_module_version": "1.2.0",
          "state": {
            "_model_module": "@jupyter-widgets/base",
            "_model_module_version": "1.2.0",
            "_model_name": "LayoutModel",
            "_view_count": null,
            "_view_module": "@jupyter-widgets/base",
            "_view_module_version": "1.2.0",
            "_view_name": "LayoutView",
            "align_content": null,
            "align_items": null,
            "align_self": null,
            "border": null,
            "bottom": null,
            "display": null,
            "flex": null,
            "flex_flow": null,
            "grid_area": null,
            "grid_auto_columns": null,
            "grid_auto_flow": null,
            "grid_auto_rows": null,
            "grid_column": null,
            "grid_gap": null,
            "grid_row": null,
            "grid_template_areas": null,
            "grid_template_columns": null,
            "grid_template_rows": null,
            "height": null,
            "justify_content": null,
            "justify_items": null,
            "left": null,
            "margin": null,
            "max_height": null,
            "max_width": null,
            "min_height": null,
            "min_width": null,
            "object_fit": null,
            "object_position": null,
            "order": null,
            "overflow": null,
            "overflow_x": null,
            "overflow_y": null,
            "padding": null,
            "right": null,
            "top": null,
            "visibility": null,
            "width": null
          }
        },
        "a545fa7169c148b99589776f51a09d13": {
          "model_module": "@jupyter-widgets/controls",
          "model_name": "ProgressStyleModel",
          "model_module_version": "1.5.0",
          "state": {
            "_model_module": "@jupyter-widgets/controls",
            "_model_module_version": "1.5.0",
            "_model_name": "ProgressStyleModel",
            "_view_count": null,
            "_view_module": "@jupyter-widgets/base",
            "_view_module_version": "1.2.0",
            "_view_name": "StyleView",
            "bar_color": null,
            "description_width": ""
          }
        },
        "3466786c863e46fd8e32e20452446967": {
          "model_module": "@jupyter-widgets/base",
          "model_name": "LayoutModel",
          "model_module_version": "1.2.0",
          "state": {
            "_model_module": "@jupyter-widgets/base",
            "_model_module_version": "1.2.0",
            "_model_name": "LayoutModel",
            "_view_count": null,
            "_view_module": "@jupyter-widgets/base",
            "_view_module_version": "1.2.0",
            "_view_name": "LayoutView",
            "align_content": null,
            "align_items": null,
            "align_self": null,
            "border": null,
            "bottom": null,
            "display": null,
            "flex": null,
            "flex_flow": null,
            "grid_area": null,
            "grid_auto_columns": null,
            "grid_auto_flow": null,
            "grid_auto_rows": null,
            "grid_column": null,
            "grid_gap": null,
            "grid_row": null,
            "grid_template_areas": null,
            "grid_template_columns": null,
            "grid_template_rows": null,
            "height": null,
            "justify_content": null,
            "justify_items": null,
            "left": null,
            "margin": null,
            "max_height": null,
            "max_width": null,
            "min_height": null,
            "min_width": null,
            "object_fit": null,
            "object_position": null,
            "order": null,
            "overflow": null,
            "overflow_x": null,
            "overflow_y": null,
            "padding": null,
            "right": null,
            "top": null,
            "visibility": null,
            "width": null
          }
        },
        "aba83b6eed9f4498850268b2535fd7de": {
          "model_module": "@jupyter-widgets/controls",
          "model_name": "DescriptionStyleModel",
          "model_module_version": "1.5.0",
          "state": {
            "_model_module": "@jupyter-widgets/controls",
            "_model_module_version": "1.5.0",
            "_model_name": "DescriptionStyleModel",
            "_view_count": null,
            "_view_module": "@jupyter-widgets/base",
            "_view_module_version": "1.2.0",
            "_view_name": "StyleView",
            "description_width": ""
          }
        },
        "9847c0be9dad4baea089e67b5645d956": {
          "model_module": "@jupyter-widgets/controls",
          "model_name": "HBoxModel",
          "model_module_version": "1.5.0",
          "state": {
            "_dom_classes": [],
            "_model_module": "@jupyter-widgets/controls",
            "_model_module_version": "1.5.0",
            "_model_name": "HBoxModel",
            "_view_count": null,
            "_view_module": "@jupyter-widgets/controls",
            "_view_module_version": "1.5.0",
            "_view_name": "HBoxView",
            "box_style": "",
            "children": [
              "IPY_MODEL_9e00de9bd9c44b30a505f279eb46cad5",
              "IPY_MODEL_73a80beddc1845dc8a03f9f3e4a206a8",
              "IPY_MODEL_4ebb3029f2bc46a6bbea990fdf7b633a"
            ],
            "layout": "IPY_MODEL_71e1bdee11434fe5a6abd5a719755aaf"
          }
        },
        "9e00de9bd9c44b30a505f279eb46cad5": {
          "model_module": "@jupyter-widgets/controls",
          "model_name": "HTMLModel",
          "model_module_version": "1.5.0",
          "state": {
            "_dom_classes": [],
            "_model_module": "@jupyter-widgets/controls",
            "_model_module_version": "1.5.0",
            "_model_name": "HTMLModel",
            "_view_count": null,
            "_view_module": "@jupyter-widgets/controls",
            "_view_module_version": "1.5.0",
            "_view_name": "HTMLView",
            "description": "",
            "description_tooltip": null,
            "layout": "IPY_MODEL_e86830b8d5ef4741aa0b4d39b2935f06",
            "placeholder": "​",
            "style": "IPY_MODEL_fe825f1f90d9441aa2f060d038455c7e",
            "value": "Downloading data: 100%"
          }
        },
        "73a80beddc1845dc8a03f9f3e4a206a8": {
          "model_module": "@jupyter-widgets/controls",
          "model_name": "FloatProgressModel",
          "model_module_version": "1.5.0",
          "state": {
            "_dom_classes": [],
            "_model_module": "@jupyter-widgets/controls",
            "_model_module_version": "1.5.0",
            "_model_name": "FloatProgressModel",
            "_view_count": null,
            "_view_module": "@jupyter-widgets/controls",
            "_view_module_version": "1.5.0",
            "_view_name": "ProgressView",
            "bar_style": "success",
            "description": "",
            "description_tooltip": null,
            "layout": "IPY_MODEL_6b11f9906fcb43c391de659499155e1a",
            "max": 14596288,
            "min": 0,
            "orientation": "horizontal",
            "style": "IPY_MODEL_f2d6a35e57e34544a5b6559912302782",
            "value": 14596288
          }
        },
        "4ebb3029f2bc46a6bbea990fdf7b633a": {
          "model_module": "@jupyter-widgets/controls",
          "model_name": "HTMLModel",
          "model_module_version": "1.5.0",
          "state": {
            "_dom_classes": [],
            "_model_module": "@jupyter-widgets/controls",
            "_model_module_version": "1.5.0",
            "_model_name": "HTMLModel",
            "_view_count": null,
            "_view_module": "@jupyter-widgets/controls",
            "_view_module_version": "1.5.0",
            "_view_name": "HTMLView",
            "description": "",
            "description_tooltip": null,
            "layout": "IPY_MODEL_f1244f63f4a1432385ed4381e5ae3ccf",
            "placeholder": "​",
            "style": "IPY_MODEL_3e6bbe2e8c894c74b39f58cc20db6bc1",
            "value": " 14.6M/14.6M [00:00&lt;00:00, 28.5MB/s]"
          }
        },
        "71e1bdee11434fe5a6abd5a719755aaf": {
          "model_module": "@jupyter-widgets/base",
          "model_name": "LayoutModel",
          "model_module_version": "1.2.0",
          "state": {
            "_model_module": "@jupyter-widgets/base",
            "_model_module_version": "1.2.0",
            "_model_name": "LayoutModel",
            "_view_count": null,
            "_view_module": "@jupyter-widgets/base",
            "_view_module_version": "1.2.0",
            "_view_name": "LayoutView",
            "align_content": null,
            "align_items": null,
            "align_self": null,
            "border": null,
            "bottom": null,
            "display": null,
            "flex": null,
            "flex_flow": null,
            "grid_area": null,
            "grid_auto_columns": null,
            "grid_auto_flow": null,
            "grid_auto_rows": null,
            "grid_column": null,
            "grid_gap": null,
            "grid_row": null,
            "grid_template_areas": null,
            "grid_template_columns": null,
            "grid_template_rows": null,
            "height": null,
            "justify_content": null,
            "justify_items": null,
            "left": null,
            "margin": null,
            "max_height": null,
            "max_width": null,
            "min_height": null,
            "min_width": null,
            "object_fit": null,
            "object_position": null,
            "order": null,
            "overflow": null,
            "overflow_x": null,
            "overflow_y": null,
            "padding": null,
            "right": null,
            "top": null,
            "visibility": null,
            "width": null
          }
        },
        "e86830b8d5ef4741aa0b4d39b2935f06": {
          "model_module": "@jupyter-widgets/base",
          "model_name": "LayoutModel",
          "model_module_version": "1.2.0",
          "state": {
            "_model_module": "@jupyter-widgets/base",
            "_model_module_version": "1.2.0",
            "_model_name": "LayoutModel",
            "_view_count": null,
            "_view_module": "@jupyter-widgets/base",
            "_view_module_version": "1.2.0",
            "_view_name": "LayoutView",
            "align_content": null,
            "align_items": null,
            "align_self": null,
            "border": null,
            "bottom": null,
            "display": null,
            "flex": null,
            "flex_flow": null,
            "grid_area": null,
            "grid_auto_columns": null,
            "grid_auto_flow": null,
            "grid_auto_rows": null,
            "grid_column": null,
            "grid_gap": null,
            "grid_row": null,
            "grid_template_areas": null,
            "grid_template_columns": null,
            "grid_template_rows": null,
            "height": null,
            "justify_content": null,
            "justify_items": null,
            "left": null,
            "margin": null,
            "max_height": null,
            "max_width": null,
            "min_height": null,
            "min_width": null,
            "object_fit": null,
            "object_position": null,
            "order": null,
            "overflow": null,
            "overflow_x": null,
            "overflow_y": null,
            "padding": null,
            "right": null,
            "top": null,
            "visibility": null,
            "width": null
          }
        },
        "fe825f1f90d9441aa2f060d038455c7e": {
          "model_module": "@jupyter-widgets/controls",
          "model_name": "DescriptionStyleModel",
          "model_module_version": "1.5.0",
          "state": {
            "_model_module": "@jupyter-widgets/controls",
            "_model_module_version": "1.5.0",
            "_model_name": "DescriptionStyleModel",
            "_view_count": null,
            "_view_module": "@jupyter-widgets/base",
            "_view_module_version": "1.2.0",
            "_view_name": "StyleView",
            "description_width": ""
          }
        },
        "6b11f9906fcb43c391de659499155e1a": {
          "model_module": "@jupyter-widgets/base",
          "model_name": "LayoutModel",
          "model_module_version": "1.2.0",
          "state": {
            "_model_module": "@jupyter-widgets/base",
            "_model_module_version": "1.2.0",
            "_model_name": "LayoutModel",
            "_view_count": null,
            "_view_module": "@jupyter-widgets/base",
            "_view_module_version": "1.2.0",
            "_view_name": "LayoutView",
            "align_content": null,
            "align_items": null,
            "align_self": null,
            "border": null,
            "bottom": null,
            "display": null,
            "flex": null,
            "flex_flow": null,
            "grid_area": null,
            "grid_auto_columns": null,
            "grid_auto_flow": null,
            "grid_auto_rows": null,
            "grid_column": null,
            "grid_gap": null,
            "grid_row": null,
            "grid_template_areas": null,
            "grid_template_columns": null,
            "grid_template_rows": null,
            "height": null,
            "justify_content": null,
            "justify_items": null,
            "left": null,
            "margin": null,
            "max_height": null,
            "max_width": null,
            "min_height": null,
            "min_width": null,
            "object_fit": null,
            "object_position": null,
            "order": null,
            "overflow": null,
            "overflow_x": null,
            "overflow_y": null,
            "padding": null,
            "right": null,
            "top": null,
            "visibility": null,
            "width": null
          }
        },
        "f2d6a35e57e34544a5b6559912302782": {
          "model_module": "@jupyter-widgets/controls",
          "model_name": "ProgressStyleModel",
          "model_module_version": "1.5.0",
          "state": {
            "_model_module": "@jupyter-widgets/controls",
            "_model_module_version": "1.5.0",
            "_model_name": "ProgressStyleModel",
            "_view_count": null,
            "_view_module": "@jupyter-widgets/base",
            "_view_module_version": "1.2.0",
            "_view_name": "StyleView",
            "bar_color": null,
            "description_width": ""
          }
        },
        "f1244f63f4a1432385ed4381e5ae3ccf": {
          "model_module": "@jupyter-widgets/base",
          "model_name": "LayoutModel",
          "model_module_version": "1.2.0",
          "state": {
            "_model_module": "@jupyter-widgets/base",
            "_model_module_version": "1.2.0",
            "_model_name": "LayoutModel",
            "_view_count": null,
            "_view_module": "@jupyter-widgets/base",
            "_view_module_version": "1.2.0",
            "_view_name": "LayoutView",
            "align_content": null,
            "align_items": null,
            "align_self": null,
            "border": null,
            "bottom": null,
            "display": null,
            "flex": null,
            "flex_flow": null,
            "grid_area": null,
            "grid_auto_columns": null,
            "grid_auto_flow": null,
            "grid_auto_rows": null,
            "grid_column": null,
            "grid_gap": null,
            "grid_row": null,
            "grid_template_areas": null,
            "grid_template_columns": null,
            "grid_template_rows": null,
            "height": null,
            "justify_content": null,
            "justify_items": null,
            "left": null,
            "margin": null,
            "max_height": null,
            "max_width": null,
            "min_height": null,
            "min_width": null,
            "object_fit": null,
            "object_position": null,
            "order": null,
            "overflow": null,
            "overflow_x": null,
            "overflow_y": null,
            "padding": null,
            "right": null,
            "top": null,
            "visibility": null,
            "width": null
          }
        },
        "3e6bbe2e8c894c74b39f58cc20db6bc1": {
          "model_module": "@jupyter-widgets/controls",
          "model_name": "DescriptionStyleModel",
          "model_module_version": "1.5.0",
          "state": {
            "_model_module": "@jupyter-widgets/controls",
            "_model_module_version": "1.5.0",
            "_model_name": "DescriptionStyleModel",
            "_view_count": null,
            "_view_module": "@jupyter-widgets/base",
            "_view_module_version": "1.2.0",
            "_view_name": "StyleView",
            "description_width": ""
          }
        },
        "ccd3bb23130e4cc7a3c638f896b4f28d": {
          "model_module": "@jupyter-widgets/controls",
          "model_name": "HBoxModel",
          "model_module_version": "1.5.0",
          "state": {
            "_dom_classes": [],
            "_model_module": "@jupyter-widgets/controls",
            "_model_module_version": "1.5.0",
            "_model_name": "HBoxModel",
            "_view_count": null,
            "_view_module": "@jupyter-widgets/controls",
            "_view_module_version": "1.5.0",
            "_view_name": "HBoxView",
            "box_style": "",
            "children": [
              "IPY_MODEL_379c6391dcb44326985e93ddc0ef1582",
              "IPY_MODEL_f08fd2aa4f954bbfbbb5ce90e7b24ced",
              "IPY_MODEL_2f5e0b5c602b4ab2a335d39fffee4d0d"
            ],
            "layout": "IPY_MODEL_f1806f1a43084e11bd4bf032d5b5d59b"
          }
        },
        "379c6391dcb44326985e93ddc0ef1582": {
          "model_module": "@jupyter-widgets/controls",
          "model_name": "HTMLModel",
          "model_module_version": "1.5.0",
          "state": {
            "_dom_classes": [],
            "_model_module": "@jupyter-widgets/controls",
            "_model_module_version": "1.5.0",
            "_model_name": "HTMLModel",
            "_view_count": null,
            "_view_module": "@jupyter-widgets/controls",
            "_view_module_version": "1.5.0",
            "_view_name": "HTMLView",
            "description": "",
            "description_tooltip": null,
            "layout": "IPY_MODEL_2667d55456d84d17875986fd18f69f37",
            "placeholder": "​",
            "style": "IPY_MODEL_6898310abdf54e979c7682a99f75a218",
            "value": "Extracting data files: 100%"
          }
        },
        "f08fd2aa4f954bbfbbb5ce90e7b24ced": {
          "model_module": "@jupyter-widgets/controls",
          "model_name": "FloatProgressModel",
          "model_module_version": "1.5.0",
          "state": {
            "_dom_classes": [],
            "_model_module": "@jupyter-widgets/controls",
            "_model_module_version": "1.5.0",
            "_model_name": "FloatProgressModel",
            "_view_count": null,
            "_view_module": "@jupyter-widgets/controls",
            "_view_module_version": "1.5.0",
            "_view_name": "ProgressView",
            "bar_style": "success",
            "description": "",
            "description_tooltip": null,
            "layout": "IPY_MODEL_6f4de2a55bb84fb7b1dde15c8e55a067",
            "max": 1,
            "min": 0,
            "orientation": "horizontal",
            "style": "IPY_MODEL_91a13ca01b69447191c36708c671ac44",
            "value": 1
          }
        },
        "2f5e0b5c602b4ab2a335d39fffee4d0d": {
          "model_module": "@jupyter-widgets/controls",
          "model_name": "HTMLModel",
          "model_module_version": "1.5.0",
          "state": {
            "_dom_classes": [],
            "_model_module": "@jupyter-widgets/controls",
            "_model_module_version": "1.5.0",
            "_model_name": "HTMLModel",
            "_view_count": null,
            "_view_module": "@jupyter-widgets/controls",
            "_view_module_version": "1.5.0",
            "_view_name": "HTMLView",
            "description": "",
            "description_tooltip": null,
            "layout": "IPY_MODEL_7f5e9fc053ea45e8b7dabdbe9f4bf504",
            "placeholder": "​",
            "style": "IPY_MODEL_d3967ba2947a47cd95107c0b61e9fb69",
            "value": " 1/1 [00:00&lt;00:00, 59.97it/s]"
          }
        },
        "f1806f1a43084e11bd4bf032d5b5d59b": {
          "model_module": "@jupyter-widgets/base",
          "model_name": "LayoutModel",
          "model_module_version": "1.2.0",
          "state": {
            "_model_module": "@jupyter-widgets/base",
            "_model_module_version": "1.2.0",
            "_model_name": "LayoutModel",
            "_view_count": null,
            "_view_module": "@jupyter-widgets/base",
            "_view_module_version": "1.2.0",
            "_view_name": "LayoutView",
            "align_content": null,
            "align_items": null,
            "align_self": null,
            "border": null,
            "bottom": null,
            "display": null,
            "flex": null,
            "flex_flow": null,
            "grid_area": null,
            "grid_auto_columns": null,
            "grid_auto_flow": null,
            "grid_auto_rows": null,
            "grid_column": null,
            "grid_gap": null,
            "grid_row": null,
            "grid_template_areas": null,
            "grid_template_columns": null,
            "grid_template_rows": null,
            "height": null,
            "justify_content": null,
            "justify_items": null,
            "left": null,
            "margin": null,
            "max_height": null,
            "max_width": null,
            "min_height": null,
            "min_width": null,
            "object_fit": null,
            "object_position": null,
            "order": null,
            "overflow": null,
            "overflow_x": null,
            "overflow_y": null,
            "padding": null,
            "right": null,
            "top": null,
            "visibility": null,
            "width": null
          }
        },
        "2667d55456d84d17875986fd18f69f37": {
          "model_module": "@jupyter-widgets/base",
          "model_name": "LayoutModel",
          "model_module_version": "1.2.0",
          "state": {
            "_model_module": "@jupyter-widgets/base",
            "_model_module_version": "1.2.0",
            "_model_name": "LayoutModel",
            "_view_count": null,
            "_view_module": "@jupyter-widgets/base",
            "_view_module_version": "1.2.0",
            "_view_name": "LayoutView",
            "align_content": null,
            "align_items": null,
            "align_self": null,
            "border": null,
            "bottom": null,
            "display": null,
            "flex": null,
            "flex_flow": null,
            "grid_area": null,
            "grid_auto_columns": null,
            "grid_auto_flow": null,
            "grid_auto_rows": null,
            "grid_column": null,
            "grid_gap": null,
            "grid_row": null,
            "grid_template_areas": null,
            "grid_template_columns": null,
            "grid_template_rows": null,
            "height": null,
            "justify_content": null,
            "justify_items": null,
            "left": null,
            "margin": null,
            "max_height": null,
            "max_width": null,
            "min_height": null,
            "min_width": null,
            "object_fit": null,
            "object_position": null,
            "order": null,
            "overflow": null,
            "overflow_x": null,
            "overflow_y": null,
            "padding": null,
            "right": null,
            "top": null,
            "visibility": null,
            "width": null
          }
        },
        "6898310abdf54e979c7682a99f75a218": {
          "model_module": "@jupyter-widgets/controls",
          "model_name": "DescriptionStyleModel",
          "model_module_version": "1.5.0",
          "state": {
            "_model_module": "@jupyter-widgets/controls",
            "_model_module_version": "1.5.0",
            "_model_name": "DescriptionStyleModel",
            "_view_count": null,
            "_view_module": "@jupyter-widgets/base",
            "_view_module_version": "1.2.0",
            "_view_name": "StyleView",
            "description_width": ""
          }
        },
        "6f4de2a55bb84fb7b1dde15c8e55a067": {
          "model_module": "@jupyter-widgets/base",
          "model_name": "LayoutModel",
          "model_module_version": "1.2.0",
          "state": {
            "_model_module": "@jupyter-widgets/base",
            "_model_module_version": "1.2.0",
            "_model_name": "LayoutModel",
            "_view_count": null,
            "_view_module": "@jupyter-widgets/base",
            "_view_module_version": "1.2.0",
            "_view_name": "LayoutView",
            "align_content": null,
            "align_items": null,
            "align_self": null,
            "border": null,
            "bottom": null,
            "display": null,
            "flex": null,
            "flex_flow": null,
            "grid_area": null,
            "grid_auto_columns": null,
            "grid_auto_flow": null,
            "grid_auto_rows": null,
            "grid_column": null,
            "grid_gap": null,
            "grid_row": null,
            "grid_template_areas": null,
            "grid_template_columns": null,
            "grid_template_rows": null,
            "height": null,
            "justify_content": null,
            "justify_items": null,
            "left": null,
            "margin": null,
            "max_height": null,
            "max_width": null,
            "min_height": null,
            "min_width": null,
            "object_fit": null,
            "object_position": null,
            "order": null,
            "overflow": null,
            "overflow_x": null,
            "overflow_y": null,
            "padding": null,
            "right": null,
            "top": null,
            "visibility": null,
            "width": null
          }
        },
        "91a13ca01b69447191c36708c671ac44": {
          "model_module": "@jupyter-widgets/controls",
          "model_name": "ProgressStyleModel",
          "model_module_version": "1.5.0",
          "state": {
            "_model_module": "@jupyter-widgets/controls",
            "_model_module_version": "1.5.0",
            "_model_name": "ProgressStyleModel",
            "_view_count": null,
            "_view_module": "@jupyter-widgets/base",
            "_view_module_version": "1.2.0",
            "_view_name": "StyleView",
            "bar_color": null,
            "description_width": ""
          }
        },
        "7f5e9fc053ea45e8b7dabdbe9f4bf504": {
          "model_module": "@jupyter-widgets/base",
          "model_name": "LayoutModel",
          "model_module_version": "1.2.0",
          "state": {
            "_model_module": "@jupyter-widgets/base",
            "_model_module_version": "1.2.0",
            "_model_name": "LayoutModel",
            "_view_count": null,
            "_view_module": "@jupyter-widgets/base",
            "_view_module_version": "1.2.0",
            "_view_name": "LayoutView",
            "align_content": null,
            "align_items": null,
            "align_self": null,
            "border": null,
            "bottom": null,
            "display": null,
            "flex": null,
            "flex_flow": null,
            "grid_area": null,
            "grid_auto_columns": null,
            "grid_auto_flow": null,
            "grid_auto_rows": null,
            "grid_column": null,
            "grid_gap": null,
            "grid_row": null,
            "grid_template_areas": null,
            "grid_template_columns": null,
            "grid_template_rows": null,
            "height": null,
            "justify_content": null,
            "justify_items": null,
            "left": null,
            "margin": null,
            "max_height": null,
            "max_width": null,
            "min_height": null,
            "min_width": null,
            "object_fit": null,
            "object_position": null,
            "order": null,
            "overflow": null,
            "overflow_x": null,
            "overflow_y": null,
            "padding": null,
            "right": null,
            "top": null,
            "visibility": null,
            "width": null
          }
        },
        "d3967ba2947a47cd95107c0b61e9fb69": {
          "model_module": "@jupyter-widgets/controls",
          "model_name": "DescriptionStyleModel",
          "model_module_version": "1.5.0",
          "state": {
            "_model_module": "@jupyter-widgets/controls",
            "_model_module_version": "1.5.0",
            "_model_name": "DescriptionStyleModel",
            "_view_count": null,
            "_view_module": "@jupyter-widgets/base",
            "_view_module_version": "1.2.0",
            "_view_name": "StyleView",
            "description_width": ""
          }
        },
        "28e77d1167544363a1f55fef267e3d68": {
          "model_module": "@jupyter-widgets/controls",
          "model_name": "HBoxModel",
          "model_module_version": "1.5.0",
          "state": {
            "_dom_classes": [],
            "_model_module": "@jupyter-widgets/controls",
            "_model_module_version": "1.5.0",
            "_model_name": "HBoxModel",
            "_view_count": null,
            "_view_module": "@jupyter-widgets/controls",
            "_view_module_version": "1.5.0",
            "_view_name": "HBoxView",
            "box_style": "",
            "children": [
              "IPY_MODEL_4eddd38f2bc64e9f853ef4c6ecbb2611",
              "IPY_MODEL_c2fb351e11a94467bbf7f429f39b142e",
              "IPY_MODEL_f785671ae5c64bed9480bc6a907df8c5"
            ],
            "layout": "IPY_MODEL_4acc49e6a0604ba2895449ccc8d105cd"
          }
        },
        "4eddd38f2bc64e9f853ef4c6ecbb2611": {
          "model_module": "@jupyter-widgets/controls",
          "model_name": "HTMLModel",
          "model_module_version": "1.5.0",
          "state": {
            "_dom_classes": [],
            "_model_module": "@jupyter-widgets/controls",
            "_model_module_version": "1.5.0",
            "_model_name": "HTMLModel",
            "_view_count": null,
            "_view_module": "@jupyter-widgets/controls",
            "_view_module_version": "1.5.0",
            "_view_name": "HTMLView",
            "description": "",
            "description_tooltip": null,
            "layout": "IPY_MODEL_2bffbdd3ac0845438a6fdd4c0339c3b2",
            "placeholder": "​",
            "style": "IPY_MODEL_1bd2fa4a96854b1b86b4b95abd72eb89",
            "value": "Generating train split: "
          }
        },
        "c2fb351e11a94467bbf7f429f39b142e": {
          "model_module": "@jupyter-widgets/controls",
          "model_name": "FloatProgressModel",
          "model_module_version": "1.5.0",
          "state": {
            "_dom_classes": [],
            "_model_module": "@jupyter-widgets/controls",
            "_model_module_version": "1.5.0",
            "_model_name": "FloatProgressModel",
            "_view_count": null,
            "_view_module": "@jupyter-widgets/controls",
            "_view_module_version": "1.5.0",
            "_view_name": "ProgressView",
            "bar_style": "info",
            "description": "",
            "description_tooltip": null,
            "layout": "IPY_MODEL_2f697ec464ff43d384f91a6def6adea4",
            "max": 1,
            "min": 0,
            "orientation": "horizontal",
            "style": "IPY_MODEL_288435551cf043caa26da8c3f056e5ad",
            "value": 1
          }
        },
        "f785671ae5c64bed9480bc6a907df8c5": {
          "model_module": "@jupyter-widgets/controls",
          "model_name": "HTMLModel",
          "model_module_version": "1.5.0",
          "state": {
            "_dom_classes": [],
            "_model_module": "@jupyter-widgets/controls",
            "_model_module_version": "1.5.0",
            "_model_name": "HTMLModel",
            "_view_count": null,
            "_view_module": "@jupyter-widgets/controls",
            "_view_module_version": "1.5.0",
            "_view_name": "HTMLView",
            "description": "",
            "description_tooltip": null,
            "layout": "IPY_MODEL_a822718c2aa54651a161f77df17eccbd",
            "placeholder": "​",
            "style": "IPY_MODEL_6da56ab19d7b43f8aa61af408529c710",
            "value": " 0/0 [00:00&lt;?, ? examples/s]"
          }
        },
        "4acc49e6a0604ba2895449ccc8d105cd": {
          "model_module": "@jupyter-widgets/base",
          "model_name": "LayoutModel",
          "model_module_version": "1.2.0",
          "state": {
            "_model_module": "@jupyter-widgets/base",
            "_model_module_version": "1.2.0",
            "_model_name": "LayoutModel",
            "_view_count": null,
            "_view_module": "@jupyter-widgets/base",
            "_view_module_version": "1.2.0",
            "_view_name": "LayoutView",
            "align_content": null,
            "align_items": null,
            "align_self": null,
            "border": null,
            "bottom": null,
            "display": null,
            "flex": null,
            "flex_flow": null,
            "grid_area": null,
            "grid_auto_columns": null,
            "grid_auto_flow": null,
            "grid_auto_rows": null,
            "grid_column": null,
            "grid_gap": null,
            "grid_row": null,
            "grid_template_areas": null,
            "grid_template_columns": null,
            "grid_template_rows": null,
            "height": null,
            "justify_content": null,
            "justify_items": null,
            "left": null,
            "margin": null,
            "max_height": null,
            "max_width": null,
            "min_height": null,
            "min_width": null,
            "object_fit": null,
            "object_position": null,
            "order": null,
            "overflow": null,
            "overflow_x": null,
            "overflow_y": null,
            "padding": null,
            "right": null,
            "top": null,
            "visibility": "hidden",
            "width": null
          }
        },
        "2bffbdd3ac0845438a6fdd4c0339c3b2": {
          "model_module": "@jupyter-widgets/base",
          "model_name": "LayoutModel",
          "model_module_version": "1.2.0",
          "state": {
            "_model_module": "@jupyter-widgets/base",
            "_model_module_version": "1.2.0",
            "_model_name": "LayoutModel",
            "_view_count": null,
            "_view_module": "@jupyter-widgets/base",
            "_view_module_version": "1.2.0",
            "_view_name": "LayoutView",
            "align_content": null,
            "align_items": null,
            "align_self": null,
            "border": null,
            "bottom": null,
            "display": null,
            "flex": null,
            "flex_flow": null,
            "grid_area": null,
            "grid_auto_columns": null,
            "grid_auto_flow": null,
            "grid_auto_rows": null,
            "grid_column": null,
            "grid_gap": null,
            "grid_row": null,
            "grid_template_areas": null,
            "grid_template_columns": null,
            "grid_template_rows": null,
            "height": null,
            "justify_content": null,
            "justify_items": null,
            "left": null,
            "margin": null,
            "max_height": null,
            "max_width": null,
            "min_height": null,
            "min_width": null,
            "object_fit": null,
            "object_position": null,
            "order": null,
            "overflow": null,
            "overflow_x": null,
            "overflow_y": null,
            "padding": null,
            "right": null,
            "top": null,
            "visibility": null,
            "width": null
          }
        },
        "1bd2fa4a96854b1b86b4b95abd72eb89": {
          "model_module": "@jupyter-widgets/controls",
          "model_name": "DescriptionStyleModel",
          "model_module_version": "1.5.0",
          "state": {
            "_model_module": "@jupyter-widgets/controls",
            "_model_module_version": "1.5.0",
            "_model_name": "DescriptionStyleModel",
            "_view_count": null,
            "_view_module": "@jupyter-widgets/base",
            "_view_module_version": "1.2.0",
            "_view_name": "StyleView",
            "description_width": ""
          }
        },
        "2f697ec464ff43d384f91a6def6adea4": {
          "model_module": "@jupyter-widgets/base",
          "model_name": "LayoutModel",
          "model_module_version": "1.2.0",
          "state": {
            "_model_module": "@jupyter-widgets/base",
            "_model_module_version": "1.2.0",
            "_model_name": "LayoutModel",
            "_view_count": null,
            "_view_module": "@jupyter-widgets/base",
            "_view_module_version": "1.2.0",
            "_view_name": "LayoutView",
            "align_content": null,
            "align_items": null,
            "align_self": null,
            "border": null,
            "bottom": null,
            "display": null,
            "flex": null,
            "flex_flow": null,
            "grid_area": null,
            "grid_auto_columns": null,
            "grid_auto_flow": null,
            "grid_auto_rows": null,
            "grid_column": null,
            "grid_gap": null,
            "grid_row": null,
            "grid_template_areas": null,
            "grid_template_columns": null,
            "grid_template_rows": null,
            "height": null,
            "justify_content": null,
            "justify_items": null,
            "left": null,
            "margin": null,
            "max_height": null,
            "max_width": null,
            "min_height": null,
            "min_width": null,
            "object_fit": null,
            "object_position": null,
            "order": null,
            "overflow": null,
            "overflow_x": null,
            "overflow_y": null,
            "padding": null,
            "right": null,
            "top": null,
            "visibility": null,
            "width": "20px"
          }
        },
        "288435551cf043caa26da8c3f056e5ad": {
          "model_module": "@jupyter-widgets/controls",
          "model_name": "ProgressStyleModel",
          "model_module_version": "1.5.0",
          "state": {
            "_model_module": "@jupyter-widgets/controls",
            "_model_module_version": "1.5.0",
            "_model_name": "ProgressStyleModel",
            "_view_count": null,
            "_view_module": "@jupyter-widgets/base",
            "_view_module_version": "1.2.0",
            "_view_name": "StyleView",
            "bar_color": null,
            "description_width": ""
          }
        },
        "a822718c2aa54651a161f77df17eccbd": {
          "model_module": "@jupyter-widgets/base",
          "model_name": "LayoutModel",
          "model_module_version": "1.2.0",
          "state": {
            "_model_module": "@jupyter-widgets/base",
            "_model_module_version": "1.2.0",
            "_model_name": "LayoutModel",
            "_view_count": null,
            "_view_module": "@jupyter-widgets/base",
            "_view_module_version": "1.2.0",
            "_view_name": "LayoutView",
            "align_content": null,
            "align_items": null,
            "align_self": null,
            "border": null,
            "bottom": null,
            "display": null,
            "flex": null,
            "flex_flow": null,
            "grid_area": null,
            "grid_auto_columns": null,
            "grid_auto_flow": null,
            "grid_auto_rows": null,
            "grid_column": null,
            "grid_gap": null,
            "grid_row": null,
            "grid_template_areas": null,
            "grid_template_columns": null,
            "grid_template_rows": null,
            "height": null,
            "justify_content": null,
            "justify_items": null,
            "left": null,
            "margin": null,
            "max_height": null,
            "max_width": null,
            "min_height": null,
            "min_width": null,
            "object_fit": null,
            "object_position": null,
            "order": null,
            "overflow": null,
            "overflow_x": null,
            "overflow_y": null,
            "padding": null,
            "right": null,
            "top": null,
            "visibility": null,
            "width": null
          }
        },
        "6da56ab19d7b43f8aa61af408529c710": {
          "model_module": "@jupyter-widgets/controls",
          "model_name": "DescriptionStyleModel",
          "model_module_version": "1.5.0",
          "state": {
            "_model_module": "@jupyter-widgets/controls",
            "_model_module_version": "1.5.0",
            "_model_name": "DescriptionStyleModel",
            "_view_count": null,
            "_view_module": "@jupyter-widgets/base",
            "_view_module_version": "1.2.0",
            "_view_name": "StyleView",
            "description_width": ""
          }
        },
        "2a5f9007e30c4f9cb4543934c28a33ed": {
          "model_module": "@jupyter-widgets/controls",
          "model_name": "HBoxModel",
          "model_module_version": "1.5.0",
          "state": {
            "_dom_classes": [],
            "_model_module": "@jupyter-widgets/controls",
            "_model_module_version": "1.5.0",
            "_model_name": "HBoxModel",
            "_view_count": null,
            "_view_module": "@jupyter-widgets/controls",
            "_view_module_version": "1.5.0",
            "_view_name": "HBoxView",
            "box_style": "",
            "children": [
              "IPY_MODEL_a63b009677644c46975a78555b05b0d1",
              "IPY_MODEL_2fcfb2100fc446be9eb8262d051818a2",
              "IPY_MODEL_9a8d7ba860fa4ed3a9d404133fc27286"
            ],
            "layout": "IPY_MODEL_0f028e1a8ead44508503d848ea0df00d"
          }
        },
        "a63b009677644c46975a78555b05b0d1": {
          "model_module": "@jupyter-widgets/controls",
          "model_name": "HTMLModel",
          "model_module_version": "1.5.0",
          "state": {
            "_dom_classes": [],
            "_model_module": "@jupyter-widgets/controls",
            "_model_module_version": "1.5.0",
            "_model_name": "HTMLModel",
            "_view_count": null,
            "_view_module": "@jupyter-widgets/controls",
            "_view_module_version": "1.5.0",
            "_view_name": "HTMLView",
            "description": "",
            "description_tooltip": null,
            "layout": "IPY_MODEL_44988505de56432eac0bf241efd864b6",
            "placeholder": "​",
            "style": "IPY_MODEL_fe11e7b7368a4203958a8689c9b84f08",
            "value": "100%"
          }
        },
        "2fcfb2100fc446be9eb8262d051818a2": {
          "model_module": "@jupyter-widgets/controls",
          "model_name": "FloatProgressModel",
          "model_module_version": "1.5.0",
          "state": {
            "_dom_classes": [],
            "_model_module": "@jupyter-widgets/controls",
            "_model_module_version": "1.5.0",
            "_model_name": "FloatProgressModel",
            "_view_count": null,
            "_view_module": "@jupyter-widgets/controls",
            "_view_module_version": "1.5.0",
            "_view_name": "ProgressView",
            "bar_style": "success",
            "description": "",
            "description_tooltip": null,
            "layout": "IPY_MODEL_05dac625dfc64f7e91f7ac1d0cf7b9b0",
            "max": 1,
            "min": 0,
            "orientation": "horizontal",
            "style": "IPY_MODEL_cd5123f988064892bc25908cc2f40b92",
            "value": 1
          }
        },
        "9a8d7ba860fa4ed3a9d404133fc27286": {
          "model_module": "@jupyter-widgets/controls",
          "model_name": "HTMLModel",
          "model_module_version": "1.5.0",
          "state": {
            "_dom_classes": [],
            "_model_module": "@jupyter-widgets/controls",
            "_model_module_version": "1.5.0",
            "_model_name": "HTMLModel",
            "_view_count": null,
            "_view_module": "@jupyter-widgets/controls",
            "_view_module_version": "1.5.0",
            "_view_name": "HTMLView",
            "description": "",
            "description_tooltip": null,
            "layout": "IPY_MODEL_25eb17caabc242d987fa0638fbd8720a",
            "placeholder": "​",
            "style": "IPY_MODEL_76bec34d70544fc3ad8a6bb4ad4ee670",
            "value": " 1/1 [00:00&lt;00:00, 59.36it/s]"
          }
        },
        "0f028e1a8ead44508503d848ea0df00d": {
          "model_module": "@jupyter-widgets/base",
          "model_name": "LayoutModel",
          "model_module_version": "1.2.0",
          "state": {
            "_model_module": "@jupyter-widgets/base",
            "_model_module_version": "1.2.0",
            "_model_name": "LayoutModel",
            "_view_count": null,
            "_view_module": "@jupyter-widgets/base",
            "_view_module_version": "1.2.0",
            "_view_name": "LayoutView",
            "align_content": null,
            "align_items": null,
            "align_self": null,
            "border": null,
            "bottom": null,
            "display": null,
            "flex": null,
            "flex_flow": null,
            "grid_area": null,
            "grid_auto_columns": null,
            "grid_auto_flow": null,
            "grid_auto_rows": null,
            "grid_column": null,
            "grid_gap": null,
            "grid_row": null,
            "grid_template_areas": null,
            "grid_template_columns": null,
            "grid_template_rows": null,
            "height": null,
            "justify_content": null,
            "justify_items": null,
            "left": null,
            "margin": null,
            "max_height": null,
            "max_width": null,
            "min_height": null,
            "min_width": null,
            "object_fit": null,
            "object_position": null,
            "order": null,
            "overflow": null,
            "overflow_x": null,
            "overflow_y": null,
            "padding": null,
            "right": null,
            "top": null,
            "visibility": null,
            "width": null
          }
        },
        "44988505de56432eac0bf241efd864b6": {
          "model_module": "@jupyter-widgets/base",
          "model_name": "LayoutModel",
          "model_module_version": "1.2.0",
          "state": {
            "_model_module": "@jupyter-widgets/base",
            "_model_module_version": "1.2.0",
            "_model_name": "LayoutModel",
            "_view_count": null,
            "_view_module": "@jupyter-widgets/base",
            "_view_module_version": "1.2.0",
            "_view_name": "LayoutView",
            "align_content": null,
            "align_items": null,
            "align_self": null,
            "border": null,
            "bottom": null,
            "display": null,
            "flex": null,
            "flex_flow": null,
            "grid_area": null,
            "grid_auto_columns": null,
            "grid_auto_flow": null,
            "grid_auto_rows": null,
            "grid_column": null,
            "grid_gap": null,
            "grid_row": null,
            "grid_template_areas": null,
            "grid_template_columns": null,
            "grid_template_rows": null,
            "height": null,
            "justify_content": null,
            "justify_items": null,
            "left": null,
            "margin": null,
            "max_height": null,
            "max_width": null,
            "min_height": null,
            "min_width": null,
            "object_fit": null,
            "object_position": null,
            "order": null,
            "overflow": null,
            "overflow_x": null,
            "overflow_y": null,
            "padding": null,
            "right": null,
            "top": null,
            "visibility": null,
            "width": null
          }
        },
        "fe11e7b7368a4203958a8689c9b84f08": {
          "model_module": "@jupyter-widgets/controls",
          "model_name": "DescriptionStyleModel",
          "model_module_version": "1.5.0",
          "state": {
            "_model_module": "@jupyter-widgets/controls",
            "_model_module_version": "1.5.0",
            "_model_name": "DescriptionStyleModel",
            "_view_count": null,
            "_view_module": "@jupyter-widgets/base",
            "_view_module_version": "1.2.0",
            "_view_name": "StyleView",
            "description_width": ""
          }
        },
        "05dac625dfc64f7e91f7ac1d0cf7b9b0": {
          "model_module": "@jupyter-widgets/base",
          "model_name": "LayoutModel",
          "model_module_version": "1.2.0",
          "state": {
            "_model_module": "@jupyter-widgets/base",
            "_model_module_version": "1.2.0",
            "_model_name": "LayoutModel",
            "_view_count": null,
            "_view_module": "@jupyter-widgets/base",
            "_view_module_version": "1.2.0",
            "_view_name": "LayoutView",
            "align_content": null,
            "align_items": null,
            "align_self": null,
            "border": null,
            "bottom": null,
            "display": null,
            "flex": null,
            "flex_flow": null,
            "grid_area": null,
            "grid_auto_columns": null,
            "grid_auto_flow": null,
            "grid_auto_rows": null,
            "grid_column": null,
            "grid_gap": null,
            "grid_row": null,
            "grid_template_areas": null,
            "grid_template_columns": null,
            "grid_template_rows": null,
            "height": null,
            "justify_content": null,
            "justify_items": null,
            "left": null,
            "margin": null,
            "max_height": null,
            "max_width": null,
            "min_height": null,
            "min_width": null,
            "object_fit": null,
            "object_position": null,
            "order": null,
            "overflow": null,
            "overflow_x": null,
            "overflow_y": null,
            "padding": null,
            "right": null,
            "top": null,
            "visibility": null,
            "width": null
          }
        },
        "cd5123f988064892bc25908cc2f40b92": {
          "model_module": "@jupyter-widgets/controls",
          "model_name": "ProgressStyleModel",
          "model_module_version": "1.5.0",
          "state": {
            "_model_module": "@jupyter-widgets/controls",
            "_model_module_version": "1.5.0",
            "_model_name": "ProgressStyleModel",
            "_view_count": null,
            "_view_module": "@jupyter-widgets/base",
            "_view_module_version": "1.2.0",
            "_view_name": "StyleView",
            "bar_color": null,
            "description_width": ""
          }
        },
        "25eb17caabc242d987fa0638fbd8720a": {
          "model_module": "@jupyter-widgets/base",
          "model_name": "LayoutModel",
          "model_module_version": "1.2.0",
          "state": {
            "_model_module": "@jupyter-widgets/base",
            "_model_module_version": "1.2.0",
            "_model_name": "LayoutModel",
            "_view_count": null,
            "_view_module": "@jupyter-widgets/base",
            "_view_module_version": "1.2.0",
            "_view_name": "LayoutView",
            "align_content": null,
            "align_items": null,
            "align_self": null,
            "border": null,
            "bottom": null,
            "display": null,
            "flex": null,
            "flex_flow": null,
            "grid_area": null,
            "grid_auto_columns": null,
            "grid_auto_flow": null,
            "grid_auto_rows": null,
            "grid_column": null,
            "grid_gap": null,
            "grid_row": null,
            "grid_template_areas": null,
            "grid_template_columns": null,
            "grid_template_rows": null,
            "height": null,
            "justify_content": null,
            "justify_items": null,
            "left": null,
            "margin": null,
            "max_height": null,
            "max_width": null,
            "min_height": null,
            "min_width": null,
            "object_fit": null,
            "object_position": null,
            "order": null,
            "overflow": null,
            "overflow_x": null,
            "overflow_y": null,
            "padding": null,
            "right": null,
            "top": null,
            "visibility": null,
            "width": null
          }
        },
        "76bec34d70544fc3ad8a6bb4ad4ee670": {
          "model_module": "@jupyter-widgets/controls",
          "model_name": "DescriptionStyleModel",
          "model_module_version": "1.5.0",
          "state": {
            "_model_module": "@jupyter-widgets/controls",
            "_model_module_version": "1.5.0",
            "_model_name": "DescriptionStyleModel",
            "_view_count": null,
            "_view_module": "@jupyter-widgets/base",
            "_view_module_version": "1.2.0",
            "_view_name": "StyleView",
            "description_width": ""
          }
        }
      }
    },
    "accelerator": "GPU",
    "gpuClass": "premium"
  },
  "cells": [
    {
      "cell_type": "markdown",
      "source": [
        "###Installing dependencies"
      ],
      "metadata": {
        "id": "kRijLEQOu-WK"
      }
    },
    {
      "cell_type": "code",
      "source": [
        "pip install datasets"
      ],
      "metadata": {
        "colab": {
          "base_uri": "https://localhost:8080/"
        },
        "id": "XsTCsS7NvDKg",
        "outputId": "d8840338-2846-4464-81fc-f1c1ba4369a5"
      },
      "execution_count": 1,
      "outputs": [
        {
          "output_type": "stream",
          "name": "stdout",
          "text": [
            "Looking in indexes: https://pypi.org/simple, https://us-python.pkg.dev/colab-wheels/public/simple/\n",
            "Collecting datasets\n",
            "  Downloading datasets-2.11.0-py3-none-any.whl (468 kB)\n",
            "\u001b[2K     \u001b[90m━━━━━━━━━━━━━━━━━━━━━━━━━━━━━━━━━━━━━━\u001b[0m \u001b[32m468.7/468.7 kB\u001b[0m \u001b[31m13.9 MB/s\u001b[0m eta \u001b[36m0:00:00\u001b[0m\n",
            "\u001b[?25hCollecting multiprocess\n",
            "  Downloading multiprocess-0.70.14-py39-none-any.whl (132 kB)\n",
            "\u001b[2K     \u001b[90m━━━━━━━━━━━━━━━━━━━━━━━━━━━━━━━━━━━━━━\u001b[0m \u001b[32m132.9/132.9 kB\u001b[0m \u001b[31m18.8 MB/s\u001b[0m eta \u001b[36m0:00:00\u001b[0m\n",
            "\u001b[?25hCollecting dill<0.3.7,>=0.3.0\n",
            "  Downloading dill-0.3.6-py3-none-any.whl (110 kB)\n",
            "\u001b[2K     \u001b[90m━━━━━━━━━━━━━━━━━━━━━━━━━━━━━━━━━━━━━━\u001b[0m \u001b[32m110.5/110.5 kB\u001b[0m \u001b[31m16.7 MB/s\u001b[0m eta \u001b[36m0:00:00\u001b[0m\n",
            "\u001b[?25hCollecting aiohttp\n",
            "  Downloading aiohttp-3.8.4-cp39-cp39-manylinux_2_17_x86_64.manylinux2014_x86_64.whl (1.0 MB)\n",
            "\u001b[2K     \u001b[90m━━━━━━━━━━━━━━━━━━━━━━━━━━━━━━━━━━━━━━━━\u001b[0m \u001b[32m1.0/1.0 MB\u001b[0m \u001b[31m51.5 MB/s\u001b[0m eta \u001b[36m0:00:00\u001b[0m\n",
            "\u001b[?25hRequirement already satisfied: pyyaml>=5.1 in /usr/local/lib/python3.9/dist-packages (from datasets) (6.0)\n",
            "Requirement already satisfied: fsspec[http]>=2021.11.1 in /usr/local/lib/python3.9/dist-packages (from datasets) (2023.4.0)\n",
            "Requirement already satisfied: pyarrow>=8.0.0 in /usr/local/lib/python3.9/dist-packages (from datasets) (9.0.0)\n",
            "Collecting responses<0.19\n",
            "  Downloading responses-0.18.0-py3-none-any.whl (38 kB)\n",
            "Collecting huggingface-hub<1.0.0,>=0.11.0\n",
            "  Downloading huggingface_hub-0.13.4-py3-none-any.whl (200 kB)\n",
            "\u001b[2K     \u001b[90m━━━━━━━━━━━━━━━━━━━━━━━━━━━━━━━━━━━━━━\u001b[0m \u001b[32m200.1/200.1 kB\u001b[0m \u001b[31m27.0 MB/s\u001b[0m eta \u001b[36m0:00:00\u001b[0m\n",
            "\u001b[?25hRequirement already satisfied: packaging in /usr/local/lib/python3.9/dist-packages (from datasets) (23.0)\n",
            "Requirement already satisfied: pandas in /usr/local/lib/python3.9/dist-packages (from datasets) (1.5.3)\n",
            "Requirement already satisfied: requests>=2.19.0 in /usr/local/lib/python3.9/dist-packages (from datasets) (2.27.1)\n",
            "Collecting xxhash\n",
            "  Downloading xxhash-3.2.0-cp39-cp39-manylinux_2_17_x86_64.manylinux2014_x86_64.whl (212 kB)\n",
            "\u001b[2K     \u001b[90m━━━━━━━━━━━━━━━━━━━━━━━━━━━━━━━━━━━━━━\u001b[0m \u001b[32m212.2/212.2 kB\u001b[0m \u001b[31m26.5 MB/s\u001b[0m eta \u001b[36m0:00:00\u001b[0m\n",
            "\u001b[?25hRequirement already satisfied: numpy>=1.17 in /usr/local/lib/python3.9/dist-packages (from datasets) (1.22.4)\n",
            "Requirement already satisfied: tqdm>=4.62.1 in /usr/local/lib/python3.9/dist-packages (from datasets) (4.65.0)\n",
            "Collecting async-timeout<5.0,>=4.0.0a3\n",
            "  Downloading async_timeout-4.0.2-py3-none-any.whl (5.8 kB)\n",
            "Collecting aiosignal>=1.1.2\n",
            "  Downloading aiosignal-1.3.1-py3-none-any.whl (7.6 kB)\n",
            "Collecting frozenlist>=1.1.1\n",
            "  Downloading frozenlist-1.3.3-cp39-cp39-manylinux_2_5_x86_64.manylinux1_x86_64.manylinux_2_17_x86_64.manylinux2014_x86_64.whl (158 kB)\n",
            "\u001b[2K     \u001b[90m━━━━━━━━━━━━━━━━━━━━━━━━━━━━━━━━━━━━━━\u001b[0m \u001b[32m158.8/158.8 kB\u001b[0m \u001b[31m22.1 MB/s\u001b[0m eta \u001b[36m0:00:00\u001b[0m\n",
            "\u001b[?25hRequirement already satisfied: charset-normalizer<4.0,>=2.0 in /usr/local/lib/python3.9/dist-packages (from aiohttp->datasets) (2.0.12)\n",
            "Collecting yarl<2.0,>=1.0\n",
            "  Downloading yarl-1.8.2-cp39-cp39-manylinux_2_17_x86_64.manylinux2014_x86_64.whl (264 kB)\n",
            "\u001b[2K     \u001b[90m━━━━━━━━━━━━━━━━━━━━━━━━━━━━━━━━━━━━━━\u001b[0m \u001b[32m264.6/264.6 kB\u001b[0m \u001b[31m32.2 MB/s\u001b[0m eta \u001b[36m0:00:00\u001b[0m\n",
            "\u001b[?25hCollecting multidict<7.0,>=4.5\n",
            "  Downloading multidict-6.0.4-cp39-cp39-manylinux_2_17_x86_64.manylinux2014_x86_64.whl (114 kB)\n",
            "\u001b[2K     \u001b[90m━━━━━━━━━━━━━━━━━━━━━━━━━━━━━━━━━━━━━━\u001b[0m \u001b[32m114.2/114.2 kB\u001b[0m \u001b[31m16.1 MB/s\u001b[0m eta \u001b[36m0:00:00\u001b[0m\n",
            "\u001b[?25hRequirement already satisfied: attrs>=17.3.0 in /usr/local/lib/python3.9/dist-packages (from aiohttp->datasets) (22.2.0)\n",
            "Requirement already satisfied: typing-extensions>=3.7.4.3 in /usr/local/lib/python3.9/dist-packages (from huggingface-hub<1.0.0,>=0.11.0->datasets) (4.5.0)\n",
            "Requirement already satisfied: filelock in /usr/local/lib/python3.9/dist-packages (from huggingface-hub<1.0.0,>=0.11.0->datasets) (3.11.0)\n",
            "Requirement already satisfied: idna<4,>=2.5 in /usr/local/lib/python3.9/dist-packages (from requests>=2.19.0->datasets) (3.4)\n",
            "Requirement already satisfied: urllib3<1.27,>=1.21.1 in /usr/local/lib/python3.9/dist-packages (from requests>=2.19.0->datasets) (1.26.15)\n",
            "Requirement already satisfied: certifi>=2017.4.17 in /usr/local/lib/python3.9/dist-packages (from requests>=2.19.0->datasets) (2022.12.7)\n",
            "Requirement already satisfied: python-dateutil>=2.8.1 in /usr/local/lib/python3.9/dist-packages (from pandas->datasets) (2.8.2)\n",
            "Requirement already satisfied: pytz>=2020.1 in /usr/local/lib/python3.9/dist-packages (from pandas->datasets) (2022.7.1)\n",
            "Requirement already satisfied: six>=1.5 in /usr/local/lib/python3.9/dist-packages (from python-dateutil>=2.8.1->pandas->datasets) (1.16.0)\n",
            "Installing collected packages: xxhash, multidict, frozenlist, dill, async-timeout, yarl, responses, multiprocess, huggingface-hub, aiosignal, aiohttp, datasets\n",
            "Successfully installed aiohttp-3.8.4 aiosignal-1.3.1 async-timeout-4.0.2 datasets-2.11.0 dill-0.3.6 frozenlist-1.3.3 huggingface-hub-0.13.4 multidict-6.0.4 multiprocess-0.70.14 responses-0.18.0 xxhash-3.2.0 yarl-1.8.2\n"
          ]
        }
      ]
    },
    {
      "cell_type": "markdown",
      "source": [
        "###Importing the required libraries"
      ],
      "metadata": {
        "id": "meDSsxL7vOVT"
      }
    },
    {
      "cell_type": "code",
      "execution_count": 2,
      "metadata": {
        "id": "lNtdgv3qv9Ef"
      },
      "outputs": [],
      "source": [
        "from keras.utils import pad_sequences\n",
        "from keras.layers import Embedding, LSTM, Dense, Dropout\n",
        "from keras.preprocessing.text import Tokenizer\n",
        "from keras.callbacks import EarlyStopping\n",
        "from keras.models import Sequential\n",
        "import keras.utils as ku \n",
        "from keras.optimizers import Adam\n",
        "import tensorflow\n",
        "from numpy.random import seed\n",
        "tensorflow.random.set_seed(2)\n",
        "seed(1)\n",
        "import pandas as pd\n",
        "import numpy as np\n",
        "import string, os\n",
        "import re \n",
        "import warnings\n",
        "warnings.filterwarnings(\"ignore\")\n",
        "warnings.simplefilter(action='ignore', category=FutureWarning)\n",
        "from datasets import load_dataset"
      ]
    },
    {
      "cell_type": "markdown",
      "source": [
        "###Loading the fanfiction dataset"
      ],
      "metadata": {
        "id": "uGi7G-P-vUmp"
      }
    },
    {
      "cell_type": "code",
      "source": [
        "dataset =  load_dataset('jeremyf/fanfiction_z')"
      ],
      "metadata": {
        "colab": {
          "base_uri": "https://localhost:8080/",
          "height": 232,
          "referenced_widgets": [
            "e0775f73a6eb4bb383d11b071441faa4",
            "649532ff616547fda9f5e82f078abccd",
            "a73d2db8114b4f6984a00fe7ea0fb46c",
            "f886d3494d594493bd2050ab6fd3f01e",
            "5eb8afd249ef429cb1de35ac1dd0a9df",
            "4860bda0f24a427498f43de74040e3c6",
            "f05476e8f0ab4356aa6ef94e55980448",
            "af4048eba721499daeed4e985a6d6d7d",
            "0853574a00df404da2e33cb7d08adb0c",
            "4c3c2bf1867d4b26a5663bff53b9668b",
            "cd987df1d53347faae880e5fc3d67167",
            "c9cff6be3dbe4a2b9fdd765fbe8a3b76",
            "238f6db3a79a485aa4b3a7f6d08cc091",
            "e6a98231d3e247838124cc2d850ef870",
            "73497a2c582a4f9298be5eedf6556b8d",
            "97af14834d9c455fbaef98c029bc3836",
            "75ebe91e2c764b9e94c827c03db4aac4",
            "e1acf52c7f0d4fe89b1aa56d147a8b96",
            "6b1bc07937b3414386777d2ae2803873",
            "a545fa7169c148b99589776f51a09d13",
            "3466786c863e46fd8e32e20452446967",
            "aba83b6eed9f4498850268b2535fd7de",
            "9847c0be9dad4baea089e67b5645d956",
            "9e00de9bd9c44b30a505f279eb46cad5",
            "73a80beddc1845dc8a03f9f3e4a206a8",
            "4ebb3029f2bc46a6bbea990fdf7b633a",
            "71e1bdee11434fe5a6abd5a719755aaf",
            "e86830b8d5ef4741aa0b4d39b2935f06",
            "fe825f1f90d9441aa2f060d038455c7e",
            "6b11f9906fcb43c391de659499155e1a",
            "f2d6a35e57e34544a5b6559912302782",
            "f1244f63f4a1432385ed4381e5ae3ccf",
            "3e6bbe2e8c894c74b39f58cc20db6bc1",
            "ccd3bb23130e4cc7a3c638f896b4f28d",
            "379c6391dcb44326985e93ddc0ef1582",
            "f08fd2aa4f954bbfbbb5ce90e7b24ced",
            "2f5e0b5c602b4ab2a335d39fffee4d0d",
            "f1806f1a43084e11bd4bf032d5b5d59b",
            "2667d55456d84d17875986fd18f69f37",
            "6898310abdf54e979c7682a99f75a218",
            "6f4de2a55bb84fb7b1dde15c8e55a067",
            "91a13ca01b69447191c36708c671ac44",
            "7f5e9fc053ea45e8b7dabdbe9f4bf504",
            "d3967ba2947a47cd95107c0b61e9fb69",
            "28e77d1167544363a1f55fef267e3d68",
            "4eddd38f2bc64e9f853ef4c6ecbb2611",
            "c2fb351e11a94467bbf7f429f39b142e",
            "f785671ae5c64bed9480bc6a907df8c5",
            "4acc49e6a0604ba2895449ccc8d105cd",
            "2bffbdd3ac0845438a6fdd4c0339c3b2",
            "1bd2fa4a96854b1b86b4b95abd72eb89",
            "2f697ec464ff43d384f91a6def6adea4",
            "288435551cf043caa26da8c3f056e5ad",
            "a822718c2aa54651a161f77df17eccbd",
            "6da56ab19d7b43f8aa61af408529c710",
            "2a5f9007e30c4f9cb4543934c28a33ed",
            "a63b009677644c46975a78555b05b0d1",
            "2fcfb2100fc446be9eb8262d051818a2",
            "9a8d7ba860fa4ed3a9d404133fc27286",
            "0f028e1a8ead44508503d848ea0df00d",
            "44988505de56432eac0bf241efd864b6",
            "fe11e7b7368a4203958a8689c9b84f08",
            "05dac625dfc64f7e91f7ac1d0cf7b9b0",
            "cd5123f988064892bc25908cc2f40b92",
            "25eb17caabc242d987fa0638fbd8720a",
            "76bec34d70544fc3ad8a6bb4ad4ee670"
          ]
        },
        "id": "zdEFuJPbRyV1",
        "outputId": "2844a91f-8c16-4c33-e3b8-cb804e97450a"
      },
      "execution_count": 3,
      "outputs": [
        {
          "output_type": "display_data",
          "data": {
            "text/plain": [
              "Downloading readme:   0%|          | 0.00/203 [00:00<?, ?B/s]"
            ],
            "application/vnd.jupyter.widget-view+json": {
              "version_major": 2,
              "version_minor": 0,
              "model_id": "e0775f73a6eb4bb383d11b071441faa4"
            }
          },
          "metadata": {}
        },
        {
          "output_type": "stream",
          "name": "stdout",
          "text": [
            "Downloading and preparing dataset json/jeremyf--fanfiction_z to /root/.cache/huggingface/datasets/jeremyf___json/jeremyf--fanfiction_z-ee1a1447c757b7ff/0.0.0/fe5dd6ea2639a6df622901539cb550cf8797e5a6b2dd7af1cf934bed8e233e6e...\n"
          ]
        },
        {
          "output_type": "display_data",
          "data": {
            "text/plain": [
              "Downloading data files:   0%|          | 0/1 [00:00<?, ?it/s]"
            ],
            "application/vnd.jupyter.widget-view+json": {
              "version_major": 2,
              "version_minor": 0,
              "model_id": "c9cff6be3dbe4a2b9fdd765fbe8a3b76"
            }
          },
          "metadata": {}
        },
        {
          "output_type": "display_data",
          "data": {
            "text/plain": [
              "Downloading data:   0%|          | 0.00/14.6M [00:00<?, ?B/s]"
            ],
            "application/vnd.jupyter.widget-view+json": {
              "version_major": 2,
              "version_minor": 0,
              "model_id": "9847c0be9dad4baea089e67b5645d956"
            }
          },
          "metadata": {}
        },
        {
          "output_type": "display_data",
          "data": {
            "text/plain": [
              "Extracting data files:   0%|          | 0/1 [00:00<?, ?it/s]"
            ],
            "application/vnd.jupyter.widget-view+json": {
              "version_major": 2,
              "version_minor": 0,
              "model_id": "ccd3bb23130e4cc7a3c638f896b4f28d"
            }
          },
          "metadata": {}
        },
        {
          "output_type": "display_data",
          "data": {
            "text/plain": [
              "Generating train split: 0 examples [00:00, ? examples/s]"
            ],
            "application/vnd.jupyter.widget-view+json": {
              "version_major": 2,
              "version_minor": 0,
              "model_id": "28e77d1167544363a1f55fef267e3d68"
            }
          },
          "metadata": {}
        },
        {
          "output_type": "stream",
          "name": "stdout",
          "text": [
            "Dataset json downloaded and prepared to /root/.cache/huggingface/datasets/jeremyf___json/jeremyf--fanfiction_z-ee1a1447c757b7ff/0.0.0/fe5dd6ea2639a6df622901539cb550cf8797e5a6b2dd7af1cf934bed8e233e6e. Subsequent calls will reuse this data.\n"
          ]
        },
        {
          "output_type": "display_data",
          "data": {
            "text/plain": [
              "  0%|          | 0/1 [00:00<?, ?it/s]"
            ],
            "application/vnd.jupyter.widget-view+json": {
              "version_major": 2,
              "version_minor": 0,
              "model_id": "2a5f9007e30c4f9cb4543934c28a33ed"
            }
          },
          "metadata": {}
        }
      ]
    },
    {
      "cell_type": "markdown",
      "source": [
        "###Extracting the required stories for processing"
      ],
      "metadata": {
        "id": "fLj2xybOvaDo"
      }
    },
    {
      "cell_type": "code",
      "source": [
        "story_list = [[i] for i in list(dataset['train']['story'])]\n",
        "story_list = story_list[:25]"
      ],
      "metadata": {
        "id": "DO80zSIYR14V"
      },
      "execution_count": 4,
      "outputs": []
    },
    {
      "cell_type": "markdown",
      "source": [
        "### Data pre-processing"
      ],
      "metadata": {
        "id": "Kd7xUclwvlXy"
      }
    },
    {
      "cell_type": "code",
      "source": [
        "cleaned_stories = []\n",
        "for story in story_list:\n",
        "  story = \" \".join(story[0].split(\"\\n\\n\"))\n",
        "  story = story.lower()\n",
        "  story = story.translate(str.maketrans('', '', string.punctuation))\n",
        "  story = story.replace(\"\\nend file\\n\",'')\n",
        "  cleaned_stories.append(story)\n",
        "\n",
        "print(cleaned_stories[0])"
      ],
      "metadata": {
        "colab": {
          "base_uri": "https://localhost:8080/"
        },
        "id": "fzpLHlLYR4qQ",
        "outputId": "9a0deded-d0a8-4088-c0df-472a20b4115d"
      },
      "execution_count": 5,
      "outputs": [
        {
          "output_type": "stream",
          "name": "stdout",
          "text": [
            "just a question what i thought when i first read this was that b was a guy who else thought that plz leave in the reviews and thanks so much for the people of fanfiction for adding this in love this book series and ill start doing actual fanfics on this now \n"
          ]
        }
      ]
    },
    {
      "cell_type": "markdown",
      "source": [
        "### Tokenization of the training data set"
      ],
      "metadata": {
        "id": "J7mLLtLvvjPs"
      }
    },
    {
      "cell_type": "code",
      "source": [
        "tokenizer = Tokenizer()\n",
        "\n",
        "def get_sequence_of_tokens(cleaned_stories):\n",
        "    ## tokenization\n",
        "    tokenizer.fit_on_texts(cleaned_stories)\n",
        "    total_words = len(tokenizer.word_index) + 1\n",
        "    \n",
        "    ## convert data to sequence of tokens \n",
        "    input_sequences = []\n",
        "    for line in cleaned_stories:\n",
        "        token_list = tokenizer.texts_to_sequences([line])[0]\n",
        "        for i in range(1, len(token_list)):\n",
        "            n_gram_sequence = token_list[:i+1]\n",
        "            input_sequences.append(n_gram_sequence)\n",
        "    return input_sequences, total_words\n",
        "\n",
        "inp_sequences, total_words = get_sequence_of_tokens(cleaned_stories)\n",
        "print(inp_sequences[:10])"
      ],
      "metadata": {
        "colab": {
          "base_uri": "https://localhost:8080/"
        },
        "id": "T-4ce97ER9vn",
        "outputId": "36244add-c94d-4935-9f40-d837fdc0395e"
      },
      "execution_count": 6,
      "outputs": [
        {
          "output_type": "stream",
          "name": "stdout",
          "text": [
            "[[45, 5], [45, 5, 508], [45, 5, 508, 33], [45, 5, 508, 33, 7], [45, 5, 508, 33, 7, 122], [45, 5, 508, 33, 7, 122, 50], [45, 5, 508, 33, 7, 122, 50, 7], [45, 5, 508, 33, 7, 122, 50, 7, 84], [45, 5, 508, 33, 7, 122, 50, 7, 84, 449], [45, 5, 508, 33, 7, 122, 50, 7, 84, 449, 25]]\n"
          ]
        }
      ]
    },
    {
      "cell_type": "markdown",
      "source": [
        "### Padding of the sequences for further processing"
      ],
      "metadata": {
        "id": "BE5CSDDGvvDE"
      }
    },
    {
      "cell_type": "code",
      "source": [
        "def generate_padded_sequences(input_sequences):\n",
        "    max_sequence_len = max([len(x) for x in input_sequences])\n",
        "    input_sequences = np.array(pad_sequences(input_sequences, maxlen=max_sequence_len, padding='pre'))\n",
        "    \n",
        "    predictors, label = input_sequences[:,:-1],input_sequences[:,-1]\n",
        "    label = ku.to_categorical(label, num_classes=total_words)\n",
        "    return predictors, label, max_sequence_len\n",
        "\n",
        "predictors, label, max_sequence_len = generate_padded_sequences(inp_sequences)"
      ],
      "metadata": {
        "id": "A_AFrrS7R_yq"
      },
      "execution_count": 7,
      "outputs": []
    },
    {
      "cell_type": "markdown",
      "source": [
        "### Creating the LSTM model"
      ],
      "metadata": {
        "id": "mQAdxSI7vz5Y"
      }
    },
    {
      "cell_type": "code",
      "source": [
        "def create_model(max_sequence_len, total_words):\n",
        "    input_len = max_sequence_len - 1\n",
        "    model = Sequential()\n",
        "    \n",
        "    # Add Input Embedding Layer\n",
        "    model.add(Embedding(total_words, 10, input_length=input_len))\n",
        "    \n",
        "    # Add Hidden Layer 1 - LSTM Layer\n",
        "    model.add(LSTM(100))\n",
        "    model.add(Dropout(0.1))\n",
        "    \n",
        "    # Add Output Layer\n",
        "    model.add(Dense(total_words, activation='softmax'))\n",
        "\n",
        "    opt = Adam(learning_rate=0.001) \n",
        "    model.compile(loss='categorical_crossentropy', optimizer=opt, metrics=['accuracy'])    \n",
        "    return model\n",
        "\n",
        "model = create_model(max_sequence_len, total_words)\n",
        "model.summary()"
      ],
      "metadata": {
        "colab": {
          "base_uri": "https://localhost:8080/"
        },
        "id": "OF3lgmCUSLwR",
        "outputId": "4abe801e-9f2a-4492-8cad-a1affb5bc5d0"
      },
      "execution_count": null,
      "outputs": [
        {
          "output_type": "stream",
          "name": "stdout",
          "text": [
            "Model: \"sequential\"\n",
            "_________________________________________________________________\n",
            " Layer (type)                Output Shape              Param #   \n",
            "=================================================================\n",
            " embedding (Embedding)       (None, 7879, 10)          39520     \n",
            "                                                                 \n",
            " lstm (LSTM)                 (None, 100)               44400     \n",
            "                                                                 \n",
            " dropout (Dropout)           (None, 100)               0         \n",
            "                                                                 \n",
            " dense (Dense)               (None, 3952)              399152    \n",
            "                                                                 \n",
            "=================================================================\n",
            "Total params: 483,072\n",
            "Trainable params: 483,072\n",
            "Non-trainable params: 0\n",
            "_________________________________________________________________\n"
          ]
        }
      ]
    },
    {
      "cell_type": "markdown",
      "source": [
        "###Fitting the model on training data"
      ],
      "metadata": {
        "id": "02wLVOqfv51R"
      }
    },
    {
      "cell_type": "code",
      "source": [
        "history = model.fit(predictors, label, validation_split=0.10, epochs=50, verbose=True)"
      ],
      "metadata": {
        "colab": {
          "base_uri": "https://localhost:8080/"
        },
        "id": "1uXQbRfpSjDR",
        "outputId": "af93c412-593a-41e3-8298-18f4fb542693"
      },
      "execution_count": null,
      "outputs": [
        {
          "output_type": "stream",
          "name": "stdout",
          "text": [
            "Epoch 1/50\n",
            "761/761 [==============================] - 181s 229ms/step - loss: 6.7268 - accuracy: 0.0476 - val_loss: 6.7720 - val_accuracy: 0.0677\n",
            "Epoch 2/50\n",
            "761/761 [==============================] - 174s 228ms/step - loss: 6.3876 - accuracy: 0.0509 - val_loss: 6.8787 - val_accuracy: 0.0654\n",
            "Epoch 3/50\n",
            "761/761 [==============================] - 174s 228ms/step - loss: 6.2689 - accuracy: 0.0558 - val_loss: 6.9598 - val_accuracy: 0.0688\n",
            "Epoch 4/50\n",
            "761/761 [==============================] - 174s 228ms/step - loss: 6.1356 - accuracy: 0.0615 - val_loss: 6.9814 - val_accuracy: 0.0691\n",
            "Epoch 5/50\n",
            "761/761 [==============================] - 174s 228ms/step - loss: 6.0049 - accuracy: 0.0654 - val_loss: 7.0377 - val_accuracy: 0.0680\n",
            "Epoch 6/50\n",
            "761/761 [==============================] - 174s 228ms/step - loss: 5.8735 - accuracy: 0.0692 - val_loss: 7.0841 - val_accuracy: 0.0725\n",
            "Epoch 7/50\n",
            "761/761 [==============================] - 174s 228ms/step - loss: 5.7383 - accuracy: 0.0741 - val_loss: 7.1672 - val_accuracy: 0.0702\n",
            "Epoch 8/50\n",
            "761/761 [==============================] - 174s 228ms/step - loss: 5.6003 - accuracy: 0.0800 - val_loss: 7.2149 - val_accuracy: 0.0717\n",
            "Epoch 9/50\n",
            "761/761 [==============================] - 174s 228ms/step - loss: 5.4607 - accuracy: 0.0869 - val_loss: 7.2986 - val_accuracy: 0.0758\n",
            "Epoch 10/50\n",
            "761/761 [==============================] - 174s 228ms/step - loss: 5.3167 - accuracy: 0.0932 - val_loss: 7.4061 - val_accuracy: 0.0658\n",
            "Epoch 11/50\n",
            "761/761 [==============================] - 174s 228ms/step - loss: 5.1719 - accuracy: 0.1018 - val_loss: 7.4567 - val_accuracy: 0.0725\n",
            "Epoch 12/50\n",
            "761/761 [==============================] - 174s 228ms/step - loss: 5.0286 - accuracy: 0.1073 - val_loss: 7.5435 - val_accuracy: 0.0739\n",
            "Epoch 13/50\n",
            "761/761 [==============================] - 174s 229ms/step - loss: 4.8912 - accuracy: 0.1123 - val_loss: 7.6312 - val_accuracy: 0.0765\n",
            "Epoch 14/50\n",
            "761/761 [==============================] - 174s 228ms/step - loss: 4.7563 - accuracy: 0.1194 - val_loss: 7.7457 - val_accuracy: 0.0728\n",
            "Epoch 15/50\n",
            "761/761 [==============================] - 174s 228ms/step - loss: 4.6183 - accuracy: 0.1315 - val_loss: 7.8246 - val_accuracy: 0.0736\n",
            "Epoch 16/50\n",
            "761/761 [==============================] - 174s 228ms/step - loss: 4.4931 - accuracy: 0.1393 - val_loss: 7.9394 - val_accuracy: 0.0743\n",
            "Epoch 17/50\n",
            "761/761 [==============================] - 174s 228ms/step - loss: 4.3617 - accuracy: 0.1531 - val_loss: 8.0253 - val_accuracy: 0.0732\n",
            "Epoch 18/50\n",
            "761/761 [==============================] - 174s 228ms/step - loss: 4.2448 - accuracy: 0.1670 - val_loss: 8.1232 - val_accuracy: 0.0658\n",
            "Epoch 19/50\n",
            "761/761 [==============================] - 174s 228ms/step - loss: 4.1320 - accuracy: 0.1795 - val_loss: 8.2315 - val_accuracy: 0.0691\n",
            "Epoch 20/50\n",
            "761/761 [==============================] - 174s 228ms/step - loss: 4.0217 - accuracy: 0.1915 - val_loss: 8.3178 - val_accuracy: 0.0677\n",
            "Epoch 21/50\n",
            "761/761 [==============================] - 174s 228ms/step - loss: 3.9095 - accuracy: 0.2086 - val_loss: 8.4149 - val_accuracy: 0.0673\n",
            "Epoch 22/50\n",
            "761/761 [==============================] - 174s 228ms/step - loss: 3.8169 - accuracy: 0.2225 - val_loss: 8.5178 - val_accuracy: 0.0654\n",
            "Epoch 23/50\n",
            "761/761 [==============================] - 173s 228ms/step - loss: 3.7216 - accuracy: 0.2379 - val_loss: 8.5608 - val_accuracy: 0.0632\n",
            "Epoch 24/50\n",
            "761/761 [==============================] - 173s 228ms/step - loss: 3.6248 - accuracy: 0.2548 - val_loss: 8.7017 - val_accuracy: 0.0647\n",
            "Epoch 25/50\n",
            "761/761 [==============================] - 174s 228ms/step - loss: 3.5312 - accuracy: 0.2696 - val_loss: 8.7509 - val_accuracy: 0.0621\n",
            "Epoch 26/50\n",
            "761/761 [==============================] - 174s 228ms/step - loss: 3.4565 - accuracy: 0.2822 - val_loss: 8.8493 - val_accuracy: 0.0610\n",
            "Epoch 27/50\n",
            "761/761 [==============================] - 174s 228ms/step - loss: 3.3686 - accuracy: 0.2967 - val_loss: 8.9493 - val_accuracy: 0.0603\n",
            "Epoch 28/50\n",
            "761/761 [==============================] - 174s 228ms/step - loss: 3.3027 - accuracy: 0.3074 - val_loss: 9.0079 - val_accuracy: 0.0632\n",
            "Epoch 29/50\n",
            "761/761 [==============================] - 174s 228ms/step - loss: 3.2280 - accuracy: 0.3205 - val_loss: 9.1079 - val_accuracy: 0.0625\n",
            "Epoch 30/50\n",
            "761/761 [==============================] - 174s 228ms/step - loss: 3.1571 - accuracy: 0.3288 - val_loss: 9.1879 - val_accuracy: 0.0677\n",
            "Epoch 31/50\n",
            "761/761 [==============================] - 174s 228ms/step - loss: 3.0990 - accuracy: 0.3392 - val_loss: 9.2618 - val_accuracy: 0.0621\n",
            "Epoch 32/50\n",
            "761/761 [==============================] - 174s 228ms/step - loss: 3.0291 - accuracy: 0.3494 - val_loss: 9.3347 - val_accuracy: 0.0632\n",
            "Epoch 33/50\n",
            "761/761 [==============================] - 174s 228ms/step - loss: 2.9766 - accuracy: 0.3585 - val_loss: 9.3847 - val_accuracy: 0.0610\n",
            "Epoch 34/50\n",
            "761/761 [==============================] - 173s 228ms/step - loss: 2.9251 - accuracy: 0.3689 - val_loss: 9.4238 - val_accuracy: 0.0610\n",
            "Epoch 35/50\n",
            "761/761 [==============================] - 173s 228ms/step - loss: 2.8728 - accuracy: 0.3763 - val_loss: 9.4735 - val_accuracy: 0.0610\n",
            "Epoch 36/50\n",
            "761/761 [==============================] - 174s 228ms/step - loss: 2.8138 - accuracy: 0.3886 - val_loss: 9.5441 - val_accuracy: 0.0640\n",
            "Epoch 37/50\n",
            "761/761 [==============================] - 174s 228ms/step - loss: 2.7624 - accuracy: 0.3956 - val_loss: 9.6156 - val_accuracy: 0.0603\n",
            "Epoch 38/50\n",
            "761/761 [==============================] - 174s 228ms/step - loss: 2.7254 - accuracy: 0.4014 - val_loss: 9.6970 - val_accuracy: 0.0573\n",
            "Epoch 39/50\n",
            "761/761 [==============================] - 174s 228ms/step - loss: 2.6736 - accuracy: 0.4125 - val_loss: 9.7652 - val_accuracy: 0.0584\n",
            "Epoch 40/50\n",
            "761/761 [==============================] - 173s 228ms/step - loss: 2.6347 - accuracy: 0.4164 - val_loss: 9.7786 - val_accuracy: 0.0580\n",
            "Epoch 41/50\n",
            "761/761 [==============================] - 174s 228ms/step - loss: 2.5987 - accuracy: 0.4221 - val_loss: 9.8279 - val_accuracy: 0.0573\n",
            "Epoch 42/50\n",
            "761/761 [==============================] - 174s 228ms/step - loss: 2.5583 - accuracy: 0.4281 - val_loss: 9.8879 - val_accuracy: 0.0577\n",
            "Epoch 43/50\n",
            "761/761 [==============================] - 174s 229ms/step - loss: 2.5133 - accuracy: 0.4378 - val_loss: 9.9257 - val_accuracy: 0.0555\n",
            "Epoch 44/50\n",
            "761/761 [==============================] - 174s 228ms/step - loss: 2.4816 - accuracy: 0.4458 - val_loss: 10.0159 - val_accuracy: 0.0488\n",
            "Epoch 45/50\n",
            "761/761 [==============================] - 174s 228ms/step - loss: 2.4313 - accuracy: 0.4534 - val_loss: 10.0566 - val_accuracy: 0.0551\n",
            "Epoch 46/50\n",
            "761/761 [==============================] - 174s 228ms/step - loss: 2.4027 - accuracy: 0.4592 - val_loss: 10.1190 - val_accuracy: 0.0566\n",
            "Epoch 47/50\n",
            "761/761 [==============================] - 174s 228ms/step - loss: 2.3782 - accuracy: 0.4630 - val_loss: 10.1586 - val_accuracy: 0.0573\n",
            "Epoch 48/50\n",
            "761/761 [==============================] - 174s 228ms/step - loss: 2.3442 - accuracy: 0.4677 - val_loss: 10.2139 - val_accuracy: 0.0558\n",
            "Epoch 49/50\n",
            "761/761 [==============================] - 174s 228ms/step - loss: 2.3114 - accuracy: 0.4766 - val_loss: 10.2638 - val_accuracy: 0.0547\n",
            "Epoch 50/50\n",
            "761/761 [==============================] - 174s 228ms/step - loss: 2.2728 - accuracy: 0.4823 - val_loss: 10.2739 - val_accuracy: 0.0558\n"
          ]
        }
      ]
    },
    {
      "cell_type": "markdown",
      "source": [
        "###Plotting the accuracy and loss graphs of the model"
      ],
      "metadata": {
        "id": "kXjMdcxVwD8H"
      }
    },
    {
      "cell_type": "code",
      "source": [
        "import matplotlib.pyplot as plt"
      ],
      "metadata": {
        "id": "xnwBetvfDh5K"
      },
      "execution_count": null,
      "outputs": []
    },
    {
      "cell_type": "code",
      "source": [
        "# summarize history for accuracy\n",
        "plt.plot(history.history['accuracy'])\n",
        "plt.plot(history.history['val_accuracy'])\n",
        "plt.title('model accuracy')\n",
        "plt.ylabel('accuracy')\n",
        "plt.xlabel('epoch')\n",
        "plt.legend(['train', 'test'], loc='upper left')\n",
        "plt.show()\n",
        "plt.savefig('accuracy.png', bbox_inches='tight')"
      ],
      "metadata": {
        "colab": {
          "base_uri": "https://localhost:8080/",
          "height": 489
        },
        "id": "nB02pLeFDmEp",
        "outputId": "b34dc081-2dd8-445d-be6b-adcf458c4536"
      },
      "execution_count": null,
      "outputs": [
        {
          "output_type": "display_data",
          "data": {
            "text/plain": [
              "<Figure size 640x480 with 1 Axes>"
            ],
            "image/png": "[encoded data removed]"
          },
          "metadata": {}
        },
        {
          "output_type": "display_data",
          "data": {
            "text/plain": [
              "<Figure size 640x480 with 0 Axes>"
            ]
          },
          "metadata": {}
        }
      ]
    },
    {
      "cell_type": "code",
      "source": [
        "plt.plot(history.history['loss'])\n",
        "plt.plot(history.history['val_loss'])\n",
        "plt.title('model loss')\n",
        "plt.ylabel('loss')\n",
        "plt.xlabel('epoch')\n",
        "plt.legend(['train', 'test'], loc='upper left')\n",
        "plt.show()\n",
        "plt.savefig('loss .png', bbox_inches='tight')"
      ],
      "metadata": {
        "colab": {
          "base_uri": "https://localhost:8080/",
          "height": 489
        },
        "id": "VUpEj4tQEExT",
        "outputId": "42514c6b-cbb7-4d13-993a-4be716539a2c"
      },
      "execution_count": null,
      "outputs": [
        {
          "output_type": "display_data",
          "data": {
            "text/plain": [
              "<Figure size 640x480 with 1 Axes>"
            ],
            "image/png": "[encoded data removed]"
          },
          "metadata": {}
        },
        {
          "output_type": "display_data",
          "data": {
            "text/plain": [
              "<Figure size 640x480 with 0 Axes>"
            ]
          },
          "metadata": {}
        }
      ]
    },
    {
      "cell_type": "markdown",
      "source": [
        "### Save the model"
      ],
      "metadata": {
        "id": "PA8HcWBXwMGF"
      }
    },
    {
      "cell_type": "code",
      "source": [
        "model.save('lstm_working_new.h5')"
      ],
      "metadata": {
        "id": "KgjcsfgzNw3w"
      },
      "execution_count": null,
      "outputs": []
    },
    {
      "cell_type": "markdown",
      "source": [
        "###Loading the saved model"
      ],
      "metadata": {
        "id": "JaCj8vjiwPFJ"
      }
    },
    {
      "cell_type": "code",
      "source": [
        "new_model = tensorflow.keras.models.load_model('lstm_working_new.h5')\n",
        "\n",
        "# Show the model architecture\n",
        "new_model.summary()"
      ],
      "metadata": {
        "colab": {
          "base_uri": "https://localhost:8080/"
        },
        "id": "Ozjay695OQkq",
        "outputId": "e6bd5e28-3028-4b81-8579-c795b480fae7"
      },
      "execution_count": 18,
      "outputs": [
        {
          "output_type": "stream",
          "name": "stdout",
          "text": [
            "Model: \"sequential\"\n",
            "_________________________________________________________________\n",
            " Layer (type)                Output Shape              Param #   \n",
            "=================================================================\n",
            " embedding (Embedding)       (None, 7879, 10)          39520     \n",
            "                                                                 \n",
            " lstm (LSTM)                 (None, 100)               44400     \n",
            "                                                                 \n",
            " dropout (Dropout)           (None, 100)               0         \n",
            "                                                                 \n",
            " dense (Dense)               (None, 3952)              399152    \n",
            "                                                                 \n",
            "=================================================================\n",
            "Total params: 483,072\n",
            "Trainable params: 483,072\n",
            "Non-trainable params: 0\n",
            "_________________________________________________________________\n"
          ]
        }
      ]
    },
    {
      "cell_type": "markdown",
      "source": [
        "### Generating stories using the trained model"
      ],
      "metadata": {
        "id": "iJCCHcFAwzhq"
      }
    },
    {
      "cell_type": "code",
      "source": [
        "def generate_text(seed_text, next_words, model, max_sequence_len):\n",
        "    for _ in range(next_words):\n",
        "        token_list = tokenizer.texts_to_sequences([seed_text])[0]\n",
        "        token_list = pad_sequences([token_list], maxlen=max_sequence_len-1, padding='pre')\n",
        "        predicted = np.argmax(model.predict(token_list, verbose=0),axis=1)\n",
        "        output_word = \"\"\n",
        "        for word,index in tokenizer.word_index.items():\n",
        "            if index == predicted:\n",
        "                output_word = word\n",
        "                break\n",
        "        seed_text += \" \"+output_word\n",
        "    return seed_text.title()"
      ],
      "metadata": {
        "id": "uAUHsH7ZOrzA"
      },
      "execution_count": 8,
      "outputs": []
    },
    {
      "cell_type": "markdown",
      "source": [
        "### A few prompts for story generation"
      ],
      "metadata": {
        "id": "07e8tPSZw4-6"
      }
    },
    {
      "cell_type": "code",
      "source": [
        "print (generate_text(\"Just a question\", 50, new_model, max_sequence_len))"
      ],
      "metadata": {
        "colab": {
          "base_uri": "https://localhost:8080/"
        },
        "id": "jewWpeFkOvOk",
        "outputId": "c9d575d9-4ee3-4976-81f8-16b2229feafc"
      },
      "execution_count": 10,
      "outputs": [
        {
          "output_type": "stream",
          "name": "stdout",
          "text": [
            "Just A Question 2 Aybasbtu Game Script Zero Wing 2 One I Am Not Making My Characters My Doom I Cant Take It Let That Holy Endurance 510 Hound The Early Signs Of This Type Are Lip Splits Rotting Nose Enlarge Eyes Elongated Fingers And Nails Body Becomes Thinnertaller Hair Falls Out Smell\n"
          ]
        }
      ]
    },
    {
      "cell_type": "code",
      "source": [
        "print (generate_text(\"United States\", 50, new_model, max_sequence_len)) "
      ],
      "metadata": {
        "colab": {
          "base_uri": "https://localhost:8080/"
        },
        "id": "gA6jutecO1h_",
        "outputId": "55816d2c-fee8-4838-d454-97d2ab64c761"
      },
      "execution_count": 11,
      "outputs": [
        {
          "output_type": "stream",
          "name": "stdout",
          "text": [
            "United States Is Tea Of The Early Signs Of The Experiment Pray The Experiment Is The Experiment That Still Watched The Single Friend Summer Is A Massive Edifice Proclaiming The Triumph Of Humans Reaching Beyond The Bounds Of Earth Suddenly Of The Ship Of The Crew Valiant Noble And A Single Friend\n"
          ]
        }
      ]
    },
    {
      "cell_type": "code",
      "source": [
        "print (generate_text(\"Alice in wonderland\", 50, new_model, max_sequence_len)) "
      ],
      "metadata": {
        "colab": {
          "base_uri": "https://localhost:8080/"
        },
        "id": "D0gv0fDYpvh8",
        "outputId": "160f95c7-be6a-4d47-fcd2-ab9bafe46cf0"
      },
      "execution_count": 12,
      "outputs": [
        {
          "output_type": "stream",
          "name": "stdout",
          "text": [
            "Alice In Wonderland Your Remains Rating Zero Wing 2 One I Can Explain Gifts Not A Scientific Man I 1 You Gentlemen Up It Are Like A Lot Oneshot Disclaimer I Need To Be School With My House And Taking Ill The Group Of Justice A Small Metal Guys Had Opened That He\n"
          ]
        }
      ]
    },
    {
      "cell_type": "markdown",
      "source": [
        "###perplexity calculation"
      ],
      "metadata": {
        "id": "RzXCXY0gy03y"
      }
    },
    {
      "cell_type": "code",
      "source": [
        "evaluate_stories = dataset['train']['story'][26:28]\n",
        "print(len(evaluate_stories))"
      ],
      "metadata": {
        "colab": {
          "base_uri": "https://localhost:8080/"
        },
        "id": "wP5KIdOzmpjv",
        "outputId": "442407ca-bbdb-4a65-fcfb-a60fe706cb82"
      },
      "execution_count": 24,
      "outputs": [
        {
          "output_type": "stream",
          "name": "stdout",
          "text": [
            "2\n"
          ]
        }
      ]
    },
    {
      "cell_type": "code",
      "source": [
        "cleaned_stories_eval = []\n",
        "for story in evaluate_stories:\n",
        "  story = \" \".join(story.split(\"\\n\\n\"))\n",
        "  story = story.lower()\n",
        "  story = story.translate(str.maketrans('', '', string.punctuation))\n",
        "  story = story.replace(\"\\nend file\\n\",'')\n",
        "  cleaned_stories_eval.append(story)\n",
        "\n",
        "print(cleaned_stories_eval[0])"
      ],
      "metadata": {
        "colab": {
          "base_uri": "https://localhost:8080/"
        },
        "outputId": "18f26bff-936e-4f3f-c173-ef933fc94fd0",
        "id": "uY_22i-gqvjx"
      },
      "execution_count": 25,
      "outputs": [
        {
          "output_type": "stream",
          "name": "stdout",
          "text": [
            "the vita nova incident i climbed up a large rock with a hunting rifle slung across my back it was early in the morning and i was searching for an elk i was a hunter and the elk often roamed on my ranch i looked through my binoculars but all i saw were vultures picking at a rotting elk corps this was the third one this week i couldnt figure out what was happening to my elk a little bummed out i headed back home trying to figure out what was going on i lived in a single story log cabin my grandpa and i had built together it was a sturdy cabin and i kept it in good repair my grandpa passed away a couple of years ago and i now live in the cabin alone well almost i was greeted at the door by the frantic barking and shuffling of rika my four year old tan and black german shepherd immediately after i opened the door rika jumped on me and started to lick my arms i know you wanna go huntin but youre just no good at it i said as i rubbed her ears rika cocked her head and whimpered how bout some breakfast she immediately perked back up and wagged her tail hunts didnt always go as planned so i kept a large stock of food just in case scrambled eggs and bacon doesnt that sound good i always made extra for rika after enjoying a filling breakfast i decided to just take it easy for the rest of the day i hung my gun back on the wall next to some awards and pictures one of them was my high school diploma james cross was the name on it but everybody called me jimmy next to it was a picture of my grandpa and i building the cabin later that night i woke up to the sound of rika barking and snarling at the front door i cursed under my breath as i walked to see what was going on the dull wood floor quietly groaned under my feet as i walked down the hallway rika rarely barked at night and it was too late in the year for bears whatever it was it was scaring her i grabbed the soft leather handle of a metal baseball bat i used to scare the occasional crack head off as i opened the door a cool breeze of night air came through but there was something else with it rika backed away with her tail between her legs when i looked at rika something grabbed my leg and pulled me to the ground the hard wood of the porch knocked the wind out of me i kicked at the shape pulling at me until i heard a crack when i got back up i saw what had grabbed me the mans jaw was wide open apparently broken by my kick the mans legs were missing and his entrails were dragging behind him the foul stench of death wafted from him the light from the house illuminated the mans decomposing face it was my neighbor larry who went missing a week ago larry kept crawling toward me when i remembered my baseball bat i swung the bat as hard as i could the mans head exploded sending gore across the porch i dropped the bat and ran inside locking the door behind me i rushed rika into my bedroom and slammed the door shut crumpling in terror at what i had just seen there was no way i could sleep tonight the early morning sun lit up my bedroom reveling some blood that had splattered on my shirt i took a couple deep breaths and gathered the strength to stand up i was to sick to eat so i went into the living room and turned the tv on every channel was an emergency broadcast and i mean every channel curious i loaded rika up in my pickup truck and grabbed one of my guns to see if anything happened in town i lived near the town of leggett in california it was a small town but it was my home it was a short drive into town and to my surprise it was deserted there was usually at least one person at the store but today there was nobody a further drive into town reveled mostly the same except this time there were cars completely abandoned and left in the road still running my initial reaction was one of confusion but after i saw that there was blood in the cars and on the road it quickly turned to fear my mind suddenly thought of what had happened to larry was this an isolated incident or was this happening every where my thoughts were suddenly interrupted by rikas barking and the frantic shouting of a man being chased by three figures in the caltrans yard next to the school i quickly drew the pistol i had brought with me as the man started to run toward me move move i yelled the man tripped on a rock and tumbled to the ground the three figures that were chasing him jumped on top of him and violently tore him to pieces i fired at one of the figures which turned out to be somebody i knew from town my bullets impacted the figure in the torso and it recoiled backwards only to jump back on the man and continue to bite off chunks of flesh i jumped back into my pickup truck and started to pet rika to calm my nerves one of the creatures slammed its self into the side of my truck to try and get to me his eyes were cloudy white with a horrible expression of anger on his face i sped away with my heart racing i was so distracted i didnt even see the creature in the road i kept my foot on the gas and didnt look back to see what had become of that monster it didnt take long for me rush home and get rika in the house i knew i couldnt stay here it was too dangerous i gathered up all of my guns two pistols one revolver one shotgun my grandpas hinting rifle and all of the respective ammo i boxed up as much canned food and water as i could i loaded rika up with a tactical dog vest to lighten my ammo load years of survival training kicked in like clockwork as i gathered some bugout bags i kept tucked away the truck was loaded up as full as i could get it the stench of larrys corps filled the house it was almost unbearable i turned to take one final look at my house before i left the once beautiful porch was now covered in blood i started to think of places to go if this was happening everywhere i couldnt go north to eureka or south to ukiah i would have to go east it wasnt the best plan but it was all i could do to get there i would have to take the freeway south through laytonville and then get on highway 162 after that i dont know where ill go but ill cross that bridge when i come to it driving back through leggett was haunting the creature that i had hit was gone and so was the man that had tripped i couldnt get out of town fast enough once i got onto the freeway the carnage only got worse there were cars on their sides completely flipped over and even a bus that hit head on with a big rig it was full of people i looked over at rika and pet her its ok well be safe soon rika just groaned as she exhaled i reached into the glove box and grabbed a bag of dog biscuits and she immediately perked back up she loved her treats now that rika was happy i was able to pay attention to the road and the car i almost hit it was a twenty minute drive to get to laytonville and i was afraid of what i might see along the way the cold and cloudy november sky didnt help the mood one bit the once busy freeway was now hauntingly empty aside from the occasional abandoned car or truck i checked the radio to find out what was happening but all i got was static and emergency broadcasts after about fifteen minutes into the drive i spotted a cop car in the road i told rika to stay as i got out to investigate the car to see what i could find i drew my gun and slowly approached the car its door wide open there was blood in the back seat but there was nobody there further inspection reveled that that the guns and ammo were gone but the police scanner was still there better than nothing i was startled by the sounds of gunshots further down the road i sat in my truck for a minute and went back over my map i started to think that my plan wasnt the best highway 162 would take us through covelo and that place was dangerous before all of this the only thing i could do would be to double back and find the hermitage property along the old 271 the hermitage had been abandoned for years and with any luck some of the houses could still be there i was about to start the engine when something hit the back of my truck rika started to growl and it did it again a little curious but mostly scared i decided to grab my shotgun and investigate i slowly inched toward the source of the sound my boots barely making a sound on the cold pavement i peered under the truck and there was somebody standing behind the truck i slowly moved to the other side of a car next to my truck the creature was standing behind my truck pounding at the tail gate i tapped the top of the car to get its attention when it looked at me its white expressionless face turned to anger like the one from leggett as it stumbled and ran toward me i fired a shell of buckshot directly into its chest tearing it open but it barely phased the creature i started to panic when i fired the second shot with the same results my third shot impacted the head which stopped it instantly headshots i whispered under my breath i looked over at my truck and saw rika looking at me through the window and i managed to force a smile even though i was terrified at this point i was so paranoid i nearly had a heart attack when thunder boomed overhead and it started raining rika licked the water off my arms when i got back in my truck my hands were trembling so bad that i could barely put it in gear let alone keep it straight on the road within minutes it was a total down pour further down the freeway i saw a pair of headlights weaving erratically through the road behind it was another car but this one had people hanging out of the windows firing guns at it i pulled off the road to avoid the mess i guess in these times there was no law and people just did what they wanted to do it didnt take long to get on the old 271 and by that time the rain had stopped i havent been to the hermitage in years and wondered if i could even still get to it rika was so tired that she just couldnt stay awake her sleep didnt last long however while driving past cummings several explosions rocked the truck and a piece of shrapnel even cracked the driver side window fire and smoke shot up from some of the buildings i didnt stick around long enough to find out what had happened i slammed my foot on the gas just in time to avoid another bigger explosion highway 271 hasnt changed much since the last time i drove on it a few small rocks had slid off the mountain onto the road along with a couple branches from the wind it was all normal a nice change from what i had seen so far well here it was the hermitage the road wasnt as bad as i thought it was going to be considering it had been abandoned for so many years the road was mostly grown over with poison oak and buck brush which again was normal something wasnt right though there was fresh tire marks on the dirt somethings not right here i looked at rika she just stared at me once i got to the bottom of the driveway it was apparent that i wasnt the only one here the vehicle that made the tire tracks was parked in the middle of the main flat it was a military humvee a little relieved but still cautious i stepped out of my truck and walked toward it i heard a terrible gurgling moan from behind but before i could turn an immensely powerful boom came from one of the houses followed by a gory splat my first reaction was to drop to the ground while two marines in their bdus came running from the other side of the humvee guns drawn and yelling at me i just want to know what the hells going on here i pleaded let em go a tall man wearing bdu pants and a dirty white tshirt holding an m82a1 sniper rifle over his shoulder walks out of the main house yes lieutenant malone one of the soldiers said to the tall man jimmy is that you malone asked get over here you sob john malone and i go way back to the third grade we were best friends all through out school right up until he enlisted as a sniper and left for afghanistan then we lost touch i turned and looked at the bloody mess left by the massive 50 caliber bullet youve gotta be careful theyll follow you for miles malones voice went from joyous to depressed as he looked at the pile what are they i asked were not too sure ourselves but theres a scientist here who knows what caused it i let rika out of the truck and she greeted the soldiers with her usual barking and sniffing they were pleased to finally see something that didnt want to kill them meet me around back malone said and bring that old hunting rifle i grabbed the old rifle from the truck the walnut wood stock was old but in good shape it was chambered for 3006 obsolete by military standards but still perfect for hunting god i remember this old thing malone was looking the rifle over inspecting every detail our families used to go on hunting trips together and this was the rifle my grandpa would use malone took aim at a metal plate across the river and fired a single shot bullseye its a beautiful thing malone muttered a marine opened the door to one of the houses lieutenant shes ready to see you he said good looks like well get our answers after all malone said to me we gathered in the makeshift laboratory and were greeted by the scientist she was fairly short about 52 and her brown hair was tied up in a tight bun her white lab coat had some blood on the bottom james this is miss ashley bradson shes the one whos been trying to figure out whats happening malone said dr bradson thank you lieutenant she said with a hint of condescension in her voice without better lab equipment i cant make any better connections between this infection and the source which is malone interrupted if you would let me continue the source of this pandemic is a blackmarket miracle drug called vita nova as for how i have no idea dr bradson continued is that it malone was disappointed not everything can be solved overnight you know dr bradson said obviously annoyed by malone dr bradson went back to work malone and i walked back into the front yard unsure of what to do whats up with her i asked before malone could answer we heard the faint rumbling of a helicopter and the roar of jets in the distance malone looked through a pair of binoculars and saw two black a10s and one black apache gunship those arent ours malone muttered the a10 warthogs as they were known circled back and fired bursts from their massive 30mm main cannons one soldier was vaporized by the high explosive bullets and another was blown in half definitely not ours malone shouted everybody evacuate now lets move people i rushed to find rika and malone went to retrieve dr bradson the black apache swooped down upon us and launched a fiery burst of rockets that erupted in a hellish explosion one of the houses was leveled i found rika and put her in the truck but malone was nowhere to be found suddenly out of the smoke malone walks out carrying dr bradson she must have been knocked unconscious in the blast hurry to the coast malone shouted he loaded dr bradson who was slowly coming to into the humvee and along with the last two soldiers sped up the driveway i was close behind as we raced toward the freeway the apache spotted us but the warthogs were nowhere to be seen one of the soldiers emerged from the humvee and shouldered an at4 launcher he took careful aim at the apache as he only had one shot the helicopter fired a burst from the 30mm chain gun but luckily missed because of our erratic driving the soldier fired the rocket the explosive warhead flew toward the helicopter it struck the main rotor sending it into an uncontrollable spin ahead of us we stopped at the smoldering wreckage of the black apache malone and i got out to investigate but were quickly disappointed theres no markings malone exclaimed he was right not a single number or symbol so who are they i asked myself sir weve got a situation here one of the soldiers shouted while firing his gun we turned around to see an entire horde of those walkers as malone calls them stumbling toward us ah crap the other soldier exclaimed as his gun jammed he was quickly overtaken and ripped to shreds as the walkers advanced on our position retreat malone shouted we need to get to the coast without asking why i jumped back in the truck and we sped away from the horde rika looked back and barked at the stumbling shapes to be continued \n"
          ]
        }
      ]
    },
    {
      "cell_type": "code",
      "source": [
        "inp_sequences_eval, total_words_eval = get_sequence_of_tokens(cleaned_stories_eval)\n",
        "print(inp_sequences_eval[:10])"
      ],
      "metadata": {
        "colab": {
          "base_uri": "https://localhost:8080/"
        },
        "id": "4HbktXj_rwbE",
        "outputId": "a8bc22a5-807a-4336-934d-3eb5fc0a4d3b"
      },
      "execution_count": 26,
      "outputs": [
        {
          "output_type": "stream",
          "name": "stdout",
          "text": [
            "[[1, 1149], [1, 1149, 1150], [1, 1149, 1150, 1063], [1, 1149, 1150, 1063, 4], [1, 1149, 1150, 1063, 4, 1862], [1, 1149, 1150, 1063, 4, 1862, 28], [1, 1149, 1150, 1063, 4, 1862, 28, 5], [1, 1149, 1150, 1063, 4, 1862, 28, 5, 705], [1, 1149, 1150, 1063, 4, 1862, 28, 5, 705, 824], [1, 1149, 1150, 1063, 4, 1862, 28, 5, 705, 824, 20]]\n"
          ]
        }
      ]
    },
    {
      "cell_type": "code",
      "source": [
        "predictors_eval, label_eval, max_sequence_len_eval = generate_padded_sequences(inp_sequences_eval)"
      ],
      "metadata": {
        "id": "Hh8bm_wzr8U6"
      },
      "execution_count": 27,
      "outputs": []
    },
    {
      "cell_type": "code",
      "source": [
        "test_loss, test_accuracy = new_model.evaluate(predictors, label)\n",
        "print('Test loss:', test_loss)\n",
        "print('Test accuracy:', test_accuracy)\n"
      ],
      "metadata": {
        "colab": {
          "base_uri": "https://localhost:8080/"
        },
        "id": "fRXnReX8swvC",
        "outputId": "70e76413-54d1-4763-c3aa-3baa0ee68302"
      },
      "execution_count": 29,
      "outputs": [
        {
          "output_type": "stream",
          "name": "stdout",
          "text": [
            "846/846 [==============================] - 92s 104ms/step - loss: 2.7703 - accuracy: 0.5181\n",
            "Test loss: 2.770331382751465\n",
            "Test accuracy: 0.5180624723434448\n"
          ]
        }
      ]
    },
    {
      "cell_type": "code",
      "source": [
        "print(tensorflow.math.exp(test_loss))"
      ],
      "metadata": {
        "colab": {
          "base_uri": "https://localhost:8080/"
        },
        "id": "ENSo3D-u1StZ",
        "outputId": "2a78ec56-668d-4a10-b60f-5430405b8f8e"
      },
      "execution_count": 30,
      "outputs": [
        {
          "output_type": "stream",
          "name": "stdout",
          "text": [
            "tf.Tensor(15.963923, shape=(), dtype=float32)\n"
          ]
        }
      ]
    }
  ]
}